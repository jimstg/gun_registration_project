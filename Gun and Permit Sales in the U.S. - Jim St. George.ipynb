{
 "cells": [
  {
   "cell_type": "markdown",
   "metadata": {},
   "source": [
    "\n",
    "# Project: Investigating Gun Permits and Sales in U.S.\n",
    "\n",
    "## Table of Contents\n",
    "<ul>\n",
    "<li><a href=\"#intro\">Introduction</a></li>\n",
    "<li><a href=\"#wrangling\">Data Wrangling</a></li>\n",
    "<li><a href=\"#eda\">Exploratory Data Analysis</a></li>\n",
    "<li><a href=\"#conclusions\">Conclusions</a></li>\n",
    "</ul>"
   ]
  },
  {
   "cell_type": "markdown",
   "metadata": {},
   "source": [
    "<a id='intro'></a>\n",
    "## Introduction\n",
    "\n",
    "> In this analysis I will be investigating the relationship between various variables and gun registration in this country. Some questions that I am posing include: Is there a relationship between handgun sales and long gun sales? What is the relation between regions of the US and gun ownership? I have selected Washington state and Alabama as two states to investigate. I live in Washington and it is a politicially liberal state, while I am to understand that Alabama is more conservative. One of the questions I have is, how do these two states compare on this topic. As I work with the data other questions may arise and I will keep remarks to explain the thought process behind each one."
   ]
  },
  {
   "cell_type": "code",
   "execution_count": 2,
   "metadata": {},
   "outputs": [],
   "source": [
    "#Imported the items I needed to complete the analysis. \n",
    "import pandas as pd\n",
    "import seaborn as sns\n",
    "import matplotlib.pyplot as plt\n",
    "import numpy as np\n",
    "% matplotlib inline"
   ]
  },
  {
   "cell_type": "markdown",
   "metadata": {},
   "source": [
    "<a id='wrangling'></a>\n",
    "## Data Wrangling\n",
    "\n",
    "> As I look at the data I am interested in the number of permits that have been distributed over time. I will reduce the number of columns so that it is easier to see the information. I have also replaced the null values in permits, handguns, and long guns with the mean value for each column. This is not the best way to fill in cells but it will serve the purpose of this investigation. Creating new dataframes for each state will make it easier to create visuals and compare various totals. I will also be comparing the state numbers with the national numbers.\n",
    "\n",
    "### General Properties"
   ]
  },
  {
   "cell_type": "code",
   "execution_count": 3,
   "metadata": {},
   "outputs": [
    {
     "data": {
      "text/html": [
       "<div>\n",
       "<style scoped>\n",
       "    .dataframe tbody tr th:only-of-type {\n",
       "        vertical-align: middle;\n",
       "    }\n",
       "\n",
       "    .dataframe tbody tr th {\n",
       "        vertical-align: top;\n",
       "    }\n",
       "\n",
       "    .dataframe thead th {\n",
       "        text-align: right;\n",
       "    }\n",
       "</style>\n",
       "<table border=\"1\" class=\"dataframe\">\n",
       "  <thead>\n",
       "    <tr style=\"text-align: right;\">\n",
       "      <th></th>\n",
       "      <th>month</th>\n",
       "      <th>state</th>\n",
       "      <th>permit</th>\n",
       "      <th>permit_recheck</th>\n",
       "      <th>handgun</th>\n",
       "      <th>long_gun</th>\n",
       "      <th>other</th>\n",
       "      <th>multiple</th>\n",
       "      <th>admin</th>\n",
       "      <th>prepawn_handgun</th>\n",
       "      <th>...</th>\n",
       "      <th>returned_other</th>\n",
       "      <th>rentals_handgun</th>\n",
       "      <th>rentals_long_gun</th>\n",
       "      <th>private_sale_handgun</th>\n",
       "      <th>private_sale_long_gun</th>\n",
       "      <th>private_sale_other</th>\n",
       "      <th>return_to_seller_handgun</th>\n",
       "      <th>return_to_seller_long_gun</th>\n",
       "      <th>return_to_seller_other</th>\n",
       "      <th>totals</th>\n",
       "    </tr>\n",
       "  </thead>\n",
       "  <tbody>\n",
       "    <tr>\n",
       "      <th>0</th>\n",
       "      <td>2017-09</td>\n",
       "      <td>Alabama</td>\n",
       "      <td>16717.0</td>\n",
       "      <td>0.0</td>\n",
       "      <td>5734.0</td>\n",
       "      <td>6320.0</td>\n",
       "      <td>221.0</td>\n",
       "      <td>317</td>\n",
       "      <td>0.0</td>\n",
       "      <td>15.0</td>\n",
       "      <td>...</td>\n",
       "      <td>0.0</td>\n",
       "      <td>0.0</td>\n",
       "      <td>0.0</td>\n",
       "      <td>9.0</td>\n",
       "      <td>16.0</td>\n",
       "      <td>3.0</td>\n",
       "      <td>0.0</td>\n",
       "      <td>0.0</td>\n",
       "      <td>3.0</td>\n",
       "      <td>32019</td>\n",
       "    </tr>\n",
       "    <tr>\n",
       "      <th>1</th>\n",
       "      <td>2017-09</td>\n",
       "      <td>Alaska</td>\n",
       "      <td>209.0</td>\n",
       "      <td>2.0</td>\n",
       "      <td>2320.0</td>\n",
       "      <td>2930.0</td>\n",
       "      <td>219.0</td>\n",
       "      <td>160</td>\n",
       "      <td>0.0</td>\n",
       "      <td>5.0</td>\n",
       "      <td>...</td>\n",
       "      <td>0.0</td>\n",
       "      <td>0.0</td>\n",
       "      <td>0.0</td>\n",
       "      <td>17.0</td>\n",
       "      <td>24.0</td>\n",
       "      <td>1.0</td>\n",
       "      <td>0.0</td>\n",
       "      <td>0.0</td>\n",
       "      <td>0.0</td>\n",
       "      <td>6303</td>\n",
       "    </tr>\n",
       "    <tr>\n",
       "      <th>2</th>\n",
       "      <td>2017-09</td>\n",
       "      <td>Arizona</td>\n",
       "      <td>5069.0</td>\n",
       "      <td>382.0</td>\n",
       "      <td>11063.0</td>\n",
       "      <td>7946.0</td>\n",
       "      <td>920.0</td>\n",
       "      <td>631</td>\n",
       "      <td>0.0</td>\n",
       "      <td>13.0</td>\n",
       "      <td>...</td>\n",
       "      <td>0.0</td>\n",
       "      <td>0.0</td>\n",
       "      <td>0.0</td>\n",
       "      <td>38.0</td>\n",
       "      <td>12.0</td>\n",
       "      <td>2.0</td>\n",
       "      <td>0.0</td>\n",
       "      <td>0.0</td>\n",
       "      <td>0.0</td>\n",
       "      <td>28394</td>\n",
       "    </tr>\n",
       "    <tr>\n",
       "      <th>3</th>\n",
       "      <td>2017-09</td>\n",
       "      <td>Arkansas</td>\n",
       "      <td>2935.0</td>\n",
       "      <td>632.0</td>\n",
       "      <td>4347.0</td>\n",
       "      <td>6063.0</td>\n",
       "      <td>165.0</td>\n",
       "      <td>366</td>\n",
       "      <td>51.0</td>\n",
       "      <td>12.0</td>\n",
       "      <td>...</td>\n",
       "      <td>0.0</td>\n",
       "      <td>0.0</td>\n",
       "      <td>0.0</td>\n",
       "      <td>13.0</td>\n",
       "      <td>23.0</td>\n",
       "      <td>0.0</td>\n",
       "      <td>0.0</td>\n",
       "      <td>2.0</td>\n",
       "      <td>1.0</td>\n",
       "      <td>17747</td>\n",
       "    </tr>\n",
       "    <tr>\n",
       "      <th>4</th>\n",
       "      <td>2017-09</td>\n",
       "      <td>California</td>\n",
       "      <td>57839.0</td>\n",
       "      <td>0.0</td>\n",
       "      <td>37165.0</td>\n",
       "      <td>24581.0</td>\n",
       "      <td>2984.0</td>\n",
       "      <td>0</td>\n",
       "      <td>0.0</td>\n",
       "      <td>0.0</td>\n",
       "      <td>...</td>\n",
       "      <td>0.0</td>\n",
       "      <td>0.0</td>\n",
       "      <td>0.0</td>\n",
       "      <td>0.0</td>\n",
       "      <td>0.0</td>\n",
       "      <td>0.0</td>\n",
       "      <td>0.0</td>\n",
       "      <td>0.0</td>\n",
       "      <td>0.0</td>\n",
       "      <td>123506</td>\n",
       "    </tr>\n",
       "  </tbody>\n",
       "</table>\n",
       "<p>5 rows × 27 columns</p>\n",
       "</div>"
      ],
      "text/plain": [
       "     month       state   permit  permit_recheck  handgun  long_gun   other  \\\n",
       "0  2017-09     Alabama  16717.0             0.0   5734.0    6320.0   221.0   \n",
       "1  2017-09      Alaska    209.0             2.0   2320.0    2930.0   219.0   \n",
       "2  2017-09     Arizona   5069.0           382.0  11063.0    7946.0   920.0   \n",
       "3  2017-09    Arkansas   2935.0           632.0   4347.0    6063.0   165.0   \n",
       "4  2017-09  California  57839.0             0.0  37165.0   24581.0  2984.0   \n",
       "\n",
       "   multiple  admin  prepawn_handgun   ...    returned_other  rentals_handgun  \\\n",
       "0       317    0.0             15.0   ...               0.0              0.0   \n",
       "1       160    0.0              5.0   ...               0.0              0.0   \n",
       "2       631    0.0             13.0   ...               0.0              0.0   \n",
       "3       366   51.0             12.0   ...               0.0              0.0   \n",
       "4         0    0.0              0.0   ...               0.0              0.0   \n",
       "\n",
       "   rentals_long_gun  private_sale_handgun  private_sale_long_gun  \\\n",
       "0               0.0                   9.0                   16.0   \n",
       "1               0.0                  17.0                   24.0   \n",
       "2               0.0                  38.0                   12.0   \n",
       "3               0.0                  13.0                   23.0   \n",
       "4               0.0                   0.0                    0.0   \n",
       "\n",
       "   private_sale_other  return_to_seller_handgun  return_to_seller_long_gun  \\\n",
       "0                 3.0                       0.0                        0.0   \n",
       "1                 1.0                       0.0                        0.0   \n",
       "2                 2.0                       0.0                        0.0   \n",
       "3                 0.0                       0.0                        2.0   \n",
       "4                 0.0                       0.0                        0.0   \n",
       "\n",
       "   return_to_seller_other  totals  \n",
       "0                     3.0   32019  \n",
       "1                     0.0    6303  \n",
       "2                     0.0   28394  \n",
       "3                     1.0   17747  \n",
       "4                     0.0  123506  \n",
       "\n",
       "[5 rows x 27 columns]"
      ]
     },
     "execution_count": 3,
     "metadata": {},
     "output_type": "execute_result"
    }
   ],
   "source": [
    "#Reading the csv file into the program for analysis. df_gun is the dataframe for the gun and permit analysis.\n",
    "#Printed the first five lines of the data frame to make sure the array looks correct.\n",
    "df_gun = pd.read_csv('gun_data.csv')\n",
    "df_gun.head()"
   ]
  },
  {
   "cell_type": "code",
   "execution_count": 51,
   "metadata": {},
   "outputs": [
    {
     "data": {
      "text/plain": [
       "(count     12485.000000\n",
       " mean       5940.879696\n",
       " std        8611.677589\n",
       " min           0.000000\n",
       " 25%         868.000000\n",
       " 50%        3067.000000\n",
       " 75%        7277.000000\n",
       " max      107224.000000\n",
       " Name: handgun, dtype: float64, count     12485.000000\n",
       " mean       7810.846296\n",
       " std        9302.758891\n",
       " min           0.000000\n",
       " 25%        2079.000000\n",
       " 50%        5130.000000\n",
       " 75%       10374.000000\n",
       " max      108058.000000\n",
       " Name: long_gun, dtype: float64)"
      ]
     },
     "execution_count": 51,
     "metadata": {},
     "output_type": "execute_result"
    }
   ],
   "source": [
    "#Looking to see the statistical values for the handgun and long_gun columns.\n",
    "hand_gun = df_gun['handgun'].describe()\n",
    "long_gun = df_gun['long_gun'].describe()\n",
    "hand_gun, long_gun"
   ]
  },
  {
   "cell_type": "code",
   "execution_count": 5,
   "metadata": {},
   "outputs": [
    {
     "data": {
      "text/plain": [
       "(12485, 27)"
      ]
     },
     "execution_count": 5,
     "metadata": {},
     "output_type": "execute_result"
    }
   ],
   "source": [
    "#Using the shape function to find the number of columns and rows.\n",
    "df_gun.shape"
   ]
  },
  {
   "cell_type": "code",
   "execution_count": 6,
   "metadata": {},
   "outputs": [
    {
     "data": {
      "text/plain": [
       "month                        12485\n",
       "state                        12485\n",
       "permit                       12461\n",
       "permit_recheck                1100\n",
       "handgun                      12465\n",
       "long_gun                     12466\n",
       "other                         5500\n",
       "multiple                     12485\n",
       "admin                        12462\n",
       "prepawn_handgun              10542\n",
       "prepawn_long_gun             10540\n",
       "prepawn_other                 5115\n",
       "redemption_handgun           10545\n",
       "redemption_long_gun          10544\n",
       "redemption_other              5115\n",
       "returned_handgun              2200\n",
       "returned_long_gun             2145\n",
       "returned_other                1815\n",
       "rentals_handgun                990\n",
       "rentals_long_gun               825\n",
       "private_sale_handgun          2750\n",
       "private_sale_long_gun         2750\n",
       "private_sale_other            2750\n",
       "return_to_seller_handgun      2475\n",
       "return_to_seller_long_gun     2750\n",
       "return_to_seller_other        2255\n",
       "totals                       12485\n",
       "dtype: int64"
      ]
     },
     "execution_count": 6,
     "metadata": {},
     "output_type": "execute_result"
    }
   ],
   "source": [
    "#The count function allows me to see the number of values in each column.\n",
    "df_gun.count()"
   ]
  },
  {
   "cell_type": "code",
   "execution_count": 7,
   "metadata": {},
   "outputs": [
    {
     "data": {
      "image/png": "[encoded data removed]",
      "text/plain": [
       "<matplotlib.figure.Figure at 0x7f86a846db00>"
      ]
     },
     "metadata": {
      "needs_background": "light"
     },
     "output_type": "display_data"
    }
   ],
   "source": [
    "#Comparing the long_gun sales to the handgun sales across the U.S. using a scatter plot.\n",
    "df_gun.plot(x='long_gun', y='handgun', kind='scatter');"
   ]
  },
  {
   "cell_type": "markdown",
   "metadata": {},
   "source": [
    "I am looking at the national gun sales numbers comparing the long_gun sales to the handgun sales to see if a pattern appears. With this one glimpse it appears there is a correlation between the sales of long_guns and the sales of handguns. The correlation is not strong but it does seem to be a positive corrrelation. When more long guns are sold more handguns are sold as well."
   ]
  },
  {
   "cell_type": "code",
   "execution_count": 8,
   "metadata": {},
   "outputs": [
    {
     "data": {
      "image/png": "[encoded data removed]",
      "text/plain": [
       "<matplotlib.figure.Figure at 0x7f86d86eef60>"
      ]
     },
     "metadata": {
      "needs_background": "light"
     },
     "output_type": "display_data"
    }
   ],
   "source": [
    "#Comparing the long_gun sales to the number of permits sold in the U.S.\n",
    "df_gun.plot(x='long_gun', y='permit', kind='scatter');"
   ]
  },
  {
   "cell_type": "code",
   "execution_count": 9,
   "metadata": {},
   "outputs": [
    {
     "data": {
      "image/png": "[encoded data removed]",
      "text/plain": [
       "<matplotlib.figure.Figure at 0x7f86a846def0>"
      ]
     },
     "metadata": {
      "needs_background": "light"
     },
     "output_type": "display_data"
    }
   ],
   "source": [
    "#Again comparing the handgun sales to the permit sales using a scatter plot.\n",
    "df_gun.plot(x='handgun', y='permit', kind='scatter');"
   ]
  },
  {
   "cell_type": "code",
   "execution_count": 10,
   "metadata": {},
   "outputs": [
    {
     "data": {
      "text/plain": [
       "6413.6294037396674"
      ]
     },
     "execution_count": 10,
     "metadata": {},
     "output_type": "execute_result"
    }
   ],
   "source": [
    "#Finding the mean for permits in the U.S.\n",
    "permit_mean = df_gun['permit'].mean()\n",
    "permit_mean"
   ]
  },
  {
   "cell_type": "code",
   "execution_count": 11,
   "metadata": {},
   "outputs": [
    {
     "data": {
      "text/plain": [
       "5940.88110709988"
      ]
     },
     "execution_count": 11,
     "metadata": {},
     "output_type": "execute_result"
    }
   ],
   "source": [
    "#Finding the mean for handgun sales in the U.S.\n",
    "handgun_mean = df_gun['handgun'].mean()\n",
    "handgun_mean"
   ]
  },
  {
   "cell_type": "code",
   "execution_count": 53,
   "metadata": {},
   "outputs": [
    {
     "data": {
      "text/plain": [
       "7810.8462955546656"
      ]
     },
     "execution_count": 53,
     "metadata": {},
     "output_type": "execute_result"
    }
   ],
   "source": [
    "#Findint the mean for the long gun sales in the U.S.\n",
    "long_gun_mean = df_gun['long_gun'].mean()\n",
    "long_gun_mean"
   ]
  },
  {
   "cell_type": "code",
   "execution_count": 54,
   "metadata": {},
   "outputs": [
    {
     "data": {
      "text/plain": [
       "(80074148, 74171883, 97518416)"
      ]
     },
     "execution_count": 54,
     "metadata": {},
     "output_type": "execute_result"
    }
   ],
   "source": [
    "#I decided to find the totals for each of these categories in one cell. \n",
    "permit_tot = df_gun['permit'].sum()\n",
    "handgun_tot = df_gun['handgun'].sum()\n",
    "long_gun_tot = df_gun['long_gun'].sum()\n",
    "permit_tot, handgun_tot, long_gun_tot"
   ]
  },
  {
   "cell_type": "code",
   "execution_count": 12,
   "metadata": {},
   "outputs": [
    {
     "data": {
      "text/html": [
       "<div>\n",
       "<style scoped>\n",
       "    .dataframe tbody tr th:only-of-type {\n",
       "        vertical-align: middle;\n",
       "    }\n",
       "\n",
       "    .dataframe tbody tr th {\n",
       "        vertical-align: top;\n",
       "    }\n",
       "\n",
       "    .dataframe thead th {\n",
       "        text-align: right;\n",
       "    }\n",
       "</style>\n",
       "<table border=\"1\" class=\"dataframe\">\n",
       "  <thead>\n",
       "    <tr style=\"text-align: right;\">\n",
       "      <th></th>\n",
       "      <th>permit</th>\n",
       "      <th>permit_recheck</th>\n",
       "      <th>handgun</th>\n",
       "      <th>long_gun</th>\n",
       "      <th>other</th>\n",
       "      <th>multiple</th>\n",
       "      <th>admin</th>\n",
       "      <th>prepawn_handgun</th>\n",
       "      <th>prepawn_long_gun</th>\n",
       "      <th>prepawn_other</th>\n",
       "      <th>...</th>\n",
       "      <th>returned_other</th>\n",
       "      <th>rentals_handgun</th>\n",
       "      <th>rentals_long_gun</th>\n",
       "      <th>private_sale_handgun</th>\n",
       "      <th>private_sale_long_gun</th>\n",
       "      <th>private_sale_other</th>\n",
       "      <th>return_to_seller_handgun</th>\n",
       "      <th>return_to_seller_long_gun</th>\n",
       "      <th>return_to_seller_other</th>\n",
       "      <th>totals</th>\n",
       "    </tr>\n",
       "  </thead>\n",
       "  <tbody>\n",
       "    <tr>\n",
       "      <th>count</th>\n",
       "      <td>12461.000000</td>\n",
       "      <td>1100.000000</td>\n",
       "      <td>12465.000000</td>\n",
       "      <td>12466.000000</td>\n",
       "      <td>5500.000000</td>\n",
       "      <td>12485.000000</td>\n",
       "      <td>12462.000000</td>\n",
       "      <td>10542.000000</td>\n",
       "      <td>10540.000000</td>\n",
       "      <td>5115.000000</td>\n",
       "      <td>...</td>\n",
       "      <td>1815.000000</td>\n",
       "      <td>990.000000</td>\n",
       "      <td>825.000000</td>\n",
       "      <td>2750.000000</td>\n",
       "      <td>2750.000000</td>\n",
       "      <td>2750.000000</td>\n",
       "      <td>2475.000000</td>\n",
       "      <td>2750.000000</td>\n",
       "      <td>2255.000000</td>\n",
       "      <td>12485.000000</td>\n",
       "    </tr>\n",
       "    <tr>\n",
       "      <th>mean</th>\n",
       "      <td>6413.629404</td>\n",
       "      <td>1165.956364</td>\n",
       "      <td>5940.881107</td>\n",
       "      <td>7810.847585</td>\n",
       "      <td>360.471636</td>\n",
       "      <td>268.603364</td>\n",
       "      <td>58.898090</td>\n",
       "      <td>4.828021</td>\n",
       "      <td>7.834156</td>\n",
       "      <td>0.165591</td>\n",
       "      <td>...</td>\n",
       "      <td>1.027548</td>\n",
       "      <td>0.076768</td>\n",
       "      <td>0.087273</td>\n",
       "      <td>14.936000</td>\n",
       "      <td>11.602909</td>\n",
       "      <td>1.030182</td>\n",
       "      <td>0.402020</td>\n",
       "      <td>0.441818</td>\n",
       "      <td>0.105987</td>\n",
       "      <td>21595.725911</td>\n",
       "    </tr>\n",
       "    <tr>\n",
       "      <th>std</th>\n",
       "      <td>23752.338269</td>\n",
       "      <td>9224.200609</td>\n",
       "      <td>8618.584060</td>\n",
       "      <td>9309.846140</td>\n",
       "      <td>1349.478273</td>\n",
       "      <td>783.185073</td>\n",
       "      <td>604.814818</td>\n",
       "      <td>10.907756</td>\n",
       "      <td>16.468028</td>\n",
       "      <td>1.057105</td>\n",
       "      <td>...</td>\n",
       "      <td>4.386296</td>\n",
       "      <td>0.634503</td>\n",
       "      <td>0.671649</td>\n",
       "      <td>71.216021</td>\n",
       "      <td>54.253090</td>\n",
       "      <td>4.467843</td>\n",
       "      <td>1.446568</td>\n",
       "      <td>1.528223</td>\n",
       "      <td>0.427363</td>\n",
       "      <td>32591.418387</td>\n",
       "    </tr>\n",
       "    <tr>\n",
       "      <th>min</th>\n",
       "      <td>0.000000</td>\n",
       "      <td>0.000000</td>\n",
       "      <td>0.000000</td>\n",
       "      <td>0.000000</td>\n",
       "      <td>0.000000</td>\n",
       "      <td>0.000000</td>\n",
       "      <td>0.000000</td>\n",
       "      <td>0.000000</td>\n",
       "      <td>0.000000</td>\n",
       "      <td>0.000000</td>\n",
       "      <td>...</td>\n",
       "      <td>0.000000</td>\n",
       "      <td>0.000000</td>\n",
       "      <td>0.000000</td>\n",
       "      <td>0.000000</td>\n",
       "      <td>0.000000</td>\n",
       "      <td>0.000000</td>\n",
       "      <td>0.000000</td>\n",
       "      <td>0.000000</td>\n",
       "      <td>0.000000</td>\n",
       "      <td>0.000000</td>\n",
       "    </tr>\n",
       "    <tr>\n",
       "      <th>25%</th>\n",
       "      <td>0.000000</td>\n",
       "      <td>0.000000</td>\n",
       "      <td>865.000000</td>\n",
       "      <td>2078.250000</td>\n",
       "      <td>17.000000</td>\n",
       "      <td>15.000000</td>\n",
       "      <td>0.000000</td>\n",
       "      <td>0.000000</td>\n",
       "      <td>0.000000</td>\n",
       "      <td>0.000000</td>\n",
       "      <td>...</td>\n",
       "      <td>0.000000</td>\n",
       "      <td>0.000000</td>\n",
       "      <td>0.000000</td>\n",
       "      <td>0.000000</td>\n",
       "      <td>0.000000</td>\n",
       "      <td>0.000000</td>\n",
       "      <td>0.000000</td>\n",
       "      <td>0.000000</td>\n",
       "      <td>0.000000</td>\n",
       "      <td>4638.000000</td>\n",
       "    </tr>\n",
       "    <tr>\n",
       "      <th>50%</th>\n",
       "      <td>518.000000</td>\n",
       "      <td>0.000000</td>\n",
       "      <td>3059.000000</td>\n",
       "      <td>5122.000000</td>\n",
       "      <td>121.000000</td>\n",
       "      <td>125.000000</td>\n",
       "      <td>0.000000</td>\n",
       "      <td>0.000000</td>\n",
       "      <td>1.000000</td>\n",
       "      <td>0.000000</td>\n",
       "      <td>...</td>\n",
       "      <td>0.000000</td>\n",
       "      <td>0.000000</td>\n",
       "      <td>0.000000</td>\n",
       "      <td>0.000000</td>\n",
       "      <td>0.000000</td>\n",
       "      <td>0.000000</td>\n",
       "      <td>0.000000</td>\n",
       "      <td>0.000000</td>\n",
       "      <td>0.000000</td>\n",
       "      <td>12399.000000</td>\n",
       "    </tr>\n",
       "    <tr>\n",
       "      <th>75%</th>\n",
       "      <td>4272.000000</td>\n",
       "      <td>0.000000</td>\n",
       "      <td>7280.000000</td>\n",
       "      <td>10380.750000</td>\n",
       "      <td>354.000000</td>\n",
       "      <td>301.000000</td>\n",
       "      <td>0.000000</td>\n",
       "      <td>5.000000</td>\n",
       "      <td>8.000000</td>\n",
       "      <td>0.000000</td>\n",
       "      <td>...</td>\n",
       "      <td>0.000000</td>\n",
       "      <td>0.000000</td>\n",
       "      <td>0.000000</td>\n",
       "      <td>2.000000</td>\n",
       "      <td>4.000000</td>\n",
       "      <td>0.000000</td>\n",
       "      <td>0.000000</td>\n",
       "      <td>0.000000</td>\n",
       "      <td>0.000000</td>\n",
       "      <td>25453.000000</td>\n",
       "    </tr>\n",
       "    <tr>\n",
       "      <th>max</th>\n",
       "      <td>522188.000000</td>\n",
       "      <td>116681.000000</td>\n",
       "      <td>107224.000000</td>\n",
       "      <td>108058.000000</td>\n",
       "      <td>77929.000000</td>\n",
       "      <td>38907.000000</td>\n",
       "      <td>28083.000000</td>\n",
       "      <td>164.000000</td>\n",
       "      <td>269.000000</td>\n",
       "      <td>49.000000</td>\n",
       "      <td>...</td>\n",
       "      <td>64.000000</td>\n",
       "      <td>12.000000</td>\n",
       "      <td>12.000000</td>\n",
       "      <td>1017.000000</td>\n",
       "      <td>777.000000</td>\n",
       "      <td>71.000000</td>\n",
       "      <td>28.000000</td>\n",
       "      <td>17.000000</td>\n",
       "      <td>4.000000</td>\n",
       "      <td>541978.000000</td>\n",
       "    </tr>\n",
       "  </tbody>\n",
       "</table>\n",
       "<p>8 rows × 25 columns</p>\n",
       "</div>"
      ],
      "text/plain": [
       "              permit  permit_recheck        handgun       long_gun  \\\n",
       "count   12461.000000     1100.000000   12465.000000   12466.000000   \n",
       "mean     6413.629404     1165.956364    5940.881107    7810.847585   \n",
       "std     23752.338269     9224.200609    8618.584060    9309.846140   \n",
       "min         0.000000        0.000000       0.000000       0.000000   \n",
       "25%         0.000000        0.000000     865.000000    2078.250000   \n",
       "50%       518.000000        0.000000    3059.000000    5122.000000   \n",
       "75%      4272.000000        0.000000    7280.000000   10380.750000   \n",
       "max    522188.000000   116681.000000  107224.000000  108058.000000   \n",
       "\n",
       "              other      multiple         admin  prepawn_handgun  \\\n",
       "count   5500.000000  12485.000000  12462.000000     10542.000000   \n",
       "mean     360.471636    268.603364     58.898090         4.828021   \n",
       "std     1349.478273    783.185073    604.814818        10.907756   \n",
       "min        0.000000      0.000000      0.000000         0.000000   \n",
       "25%       17.000000     15.000000      0.000000         0.000000   \n",
       "50%      121.000000    125.000000      0.000000         0.000000   \n",
       "75%      354.000000    301.000000      0.000000         5.000000   \n",
       "max    77929.000000  38907.000000  28083.000000       164.000000   \n",
       "\n",
       "       prepawn_long_gun  prepawn_other      ...        returned_other  \\\n",
       "count      10540.000000    5115.000000      ...           1815.000000   \n",
       "mean           7.834156       0.165591      ...              1.027548   \n",
       "std           16.468028       1.057105      ...              4.386296   \n",
       "min            0.000000       0.000000      ...              0.000000   \n",
       "25%            0.000000       0.000000      ...              0.000000   \n",
       "50%            1.000000       0.000000      ...              0.000000   \n",
       "75%            8.000000       0.000000      ...              0.000000   \n",
       "max          269.000000      49.000000      ...             64.000000   \n",
       "\n",
       "       rentals_handgun  rentals_long_gun  private_sale_handgun  \\\n",
       "count       990.000000        825.000000           2750.000000   \n",
       "mean          0.076768          0.087273             14.936000   \n",
       "std           0.634503          0.671649             71.216021   \n",
       "min           0.000000          0.000000              0.000000   \n",
       "25%           0.000000          0.000000              0.000000   \n",
       "50%           0.000000          0.000000              0.000000   \n",
       "75%           0.000000          0.000000              2.000000   \n",
       "max          12.000000         12.000000           1017.000000   \n",
       "\n",
       "       private_sale_long_gun  private_sale_other  return_to_seller_handgun  \\\n",
       "count            2750.000000         2750.000000               2475.000000   \n",
       "mean               11.602909            1.030182                  0.402020   \n",
       "std                54.253090            4.467843                  1.446568   \n",
       "min                 0.000000            0.000000                  0.000000   \n",
       "25%                 0.000000            0.000000                  0.000000   \n",
       "50%                 0.000000            0.000000                  0.000000   \n",
       "75%                 4.000000            0.000000                  0.000000   \n",
       "max               777.000000           71.000000                 28.000000   \n",
       "\n",
       "       return_to_seller_long_gun  return_to_seller_other         totals  \n",
       "count                2750.000000             2255.000000   12485.000000  \n",
       "mean                    0.441818                0.105987   21595.725911  \n",
       "std                     1.528223                0.427363   32591.418387  \n",
       "min                     0.000000                0.000000       0.000000  \n",
       "25%                     0.000000                0.000000    4638.000000  \n",
       "50%                     0.000000                0.000000   12399.000000  \n",
       "75%                     0.000000                0.000000   25453.000000  \n",
       "max                    17.000000                4.000000  541978.000000  \n",
       "\n",
       "[8 rows x 25 columns]"
      ]
     },
     "execution_count": 12,
     "metadata": {},
     "output_type": "execute_result"
    }
   ],
   "source": [
    "#Looking at the array again, this helped me decide what categories I needed and did not need for the analysis.\n",
    "df_gun.describe()"
   ]
  },
  {
   "cell_type": "markdown",
   "metadata": {},
   "source": [
    "In the previous section I looked as several statistics and totals for the dataframe for the guns in the U.S. It appears that there are fewer handguns being sold than there are permits, but that there are more long guns being sold than permits. This might be do to the fact that in order to buy a handgun and take it home that day you need to have a permit. This makes the background check go much faster. Rifles (long guns) on the other hand do not require a permit to take home that day."
   ]
  },
  {
   "cell_type": "code",
   "execution_count": 16,
   "metadata": {},
   "outputs": [
    {
     "data": {
      "text/plain": [
       "74171900.622141987"
      ]
     },
     "execution_count": 16,
     "metadata": {},
     "output_type": "execute_result"
    }
   ],
   "source": [
    "#Wanted the total handgun sales again.\n",
    "df_gun['handgun'].sum()"
   ]
  },
  {
   "cell_type": "code",
   "execution_count": 17,
   "metadata": {},
   "outputs": [
    {
     "data": {
      "text/plain": [
       "month                        12485\n",
       "state                        12485\n",
       "permit                       12485\n",
       "permit_recheck                1100\n",
       "handgun                      12485\n",
       "long_gun                     12466\n",
       "other                         5500\n",
       "multiple                     12485\n",
       "admin                        12462\n",
       "prepawn_handgun              10542\n",
       "prepawn_long_gun             10540\n",
       "prepawn_other                 5115\n",
       "redemption_handgun           10545\n",
       "redemption_long_gun          10544\n",
       "redemption_other              5115\n",
       "returned_handgun              2200\n",
       "returned_long_gun             2145\n",
       "returned_other                1815\n",
       "rentals_handgun                990\n",
       "rentals_long_gun               825\n",
       "private_sale_handgun          2750\n",
       "private_sale_long_gun         2750\n",
       "private_sale_other            2750\n",
       "return_to_seller_handgun      2475\n",
       "return_to_seller_long_gun     2750\n",
       "return_to_seller_other        2255\n",
       "totals                       12485\n",
       "dtype: int64"
      ]
     },
     "execution_count": 17,
     "metadata": {},
     "output_type": "execute_result"
    }
   ],
   "source": [
    "#Set up some variables for replacing the 'null' values with the mean of each category.\n",
    "df_gun['handgun']= df_gun['handgun'].fillna(handgun_mean)\n",
    "df_gun['permit']= df_gun['permit'].fillna(permit_mean)\n",
    "df_gun.count()"
   ]
  },
  {
   "cell_type": "markdown",
   "metadata": {},
   "source": [
    "The new counts after I have filled in the null values with the means. This will make the comparisons later a bit easier. "
   ]
  },
  {
   "cell_type": "code",
   "execution_count": 18,
   "metadata": {},
   "outputs": [
    {
     "data": {
      "text/html": [
       "<div>\n",
       "<style scoped>\n",
       "    .dataframe tbody tr th:only-of-type {\n",
       "        vertical-align: middle;\n",
       "    }\n",
       "\n",
       "    .dataframe tbody tr th {\n",
       "        vertical-align: top;\n",
       "    }\n",
       "\n",
       "    .dataframe thead th {\n",
       "        text-align: right;\n",
       "    }\n",
       "</style>\n",
       "<table border=\"1\" class=\"dataframe\">\n",
       "  <thead>\n",
       "    <tr style=\"text-align: right;\">\n",
       "      <th></th>\n",
       "      <th>month</th>\n",
       "      <th>state</th>\n",
       "      <th>permit</th>\n",
       "      <th>permit_recheck</th>\n",
       "      <th>handgun</th>\n",
       "      <th>long_gun</th>\n",
       "      <th>other</th>\n",
       "      <th>multiple</th>\n",
       "      <th>prepawn_handgun</th>\n",
       "      <th>prepawn_long_gun</th>\n",
       "      <th>...</th>\n",
       "      <th>redemption_other</th>\n",
       "      <th>returned_handgun</th>\n",
       "      <th>returned_long_gun</th>\n",
       "      <th>returned_other</th>\n",
       "      <th>rentals_handgun</th>\n",
       "      <th>rentals_long_gun</th>\n",
       "      <th>private_sale_handgun</th>\n",
       "      <th>private_sale_long_gun</th>\n",
       "      <th>private_sale_other</th>\n",
       "      <th>totals</th>\n",
       "    </tr>\n",
       "  </thead>\n",
       "  <tbody>\n",
       "    <tr>\n",
       "      <th>0</th>\n",
       "      <td>2017-09</td>\n",
       "      <td>Alabama</td>\n",
       "      <td>16717.0</td>\n",
       "      <td>0.0</td>\n",
       "      <td>5734.0</td>\n",
       "      <td>6320.0</td>\n",
       "      <td>221.0</td>\n",
       "      <td>317</td>\n",
       "      <td>15.0</td>\n",
       "      <td>21.0</td>\n",
       "      <td>...</td>\n",
       "      <td>1.0</td>\n",
       "      <td>0.0</td>\n",
       "      <td>0.0</td>\n",
       "      <td>0.0</td>\n",
       "      <td>0.0</td>\n",
       "      <td>0.0</td>\n",
       "      <td>9.0</td>\n",
       "      <td>16.0</td>\n",
       "      <td>3.0</td>\n",
       "      <td>32019</td>\n",
       "    </tr>\n",
       "  </tbody>\n",
       "</table>\n",
       "<p>1 rows × 23 columns</p>\n",
       "</div>"
      ],
      "text/plain": [
       "     month    state   permit  permit_recheck  handgun  long_gun  other  \\\n",
       "0  2017-09  Alabama  16717.0             0.0   5734.0    6320.0  221.0   \n",
       "\n",
       "   multiple  prepawn_handgun  prepawn_long_gun   ...    redemption_other  \\\n",
       "0       317             15.0              21.0   ...                 1.0   \n",
       "\n",
       "   returned_handgun  returned_long_gun  returned_other  rentals_handgun  \\\n",
       "0               0.0                0.0             0.0              0.0   \n",
       "\n",
       "   rentals_long_gun  private_sale_handgun  private_sale_long_gun  \\\n",
       "0               0.0                   9.0                   16.0   \n",
       "\n",
       "   private_sale_other  totals  \n",
       "0                 3.0   32019  \n",
       "\n",
       "[1 rows x 23 columns]"
      ]
     },
     "execution_count": 18,
     "metadata": {},
     "output_type": "execute_result"
    }
   ],
   "source": [
    "#Started dropping some of the columns that were not necessary for the analysis.\n",
    "df_gun.drop(['admin', 'return_to_seller_handgun','return_to_seller_long_gun','return_to_seller_other'],axis=1, inplace=True)\n",
    "df_gun.head(1)"
   ]
  },
  {
   "cell_type": "code",
   "execution_count": 19,
   "metadata": {},
   "outputs": [
    {
     "data": {
      "text/html": [
       "<div>\n",
       "<style scoped>\n",
       "    .dataframe tbody tr th:only-of-type {\n",
       "        vertical-align: middle;\n",
       "    }\n",
       "\n",
       "    .dataframe tbody tr th {\n",
       "        vertical-align: top;\n",
       "    }\n",
       "\n",
       "    .dataframe thead th {\n",
       "        text-align: right;\n",
       "    }\n",
       "</style>\n",
       "<table border=\"1\" class=\"dataframe\">\n",
       "  <thead>\n",
       "    <tr style=\"text-align: right;\">\n",
       "      <th></th>\n",
       "      <th>month</th>\n",
       "      <th>state</th>\n",
       "      <th>permit</th>\n",
       "      <th>permit_recheck</th>\n",
       "      <th>handgun</th>\n",
       "      <th>long_gun</th>\n",
       "      <th>other</th>\n",
       "      <th>multiple</th>\n",
       "      <th>prepawn_handgun</th>\n",
       "      <th>prepawn_long_gun</th>\n",
       "      <th>prepawn_other</th>\n",
       "      <th>redemption_other</th>\n",
       "      <th>rentals_handgun</th>\n",
       "      <th>rentals_long_gun</th>\n",
       "      <th>private_sale_handgun</th>\n",
       "      <th>private_sale_long_gun</th>\n",
       "      <th>private_sale_other</th>\n",
       "      <th>totals</th>\n",
       "    </tr>\n",
       "  </thead>\n",
       "  <tbody>\n",
       "    <tr>\n",
       "      <th>0</th>\n",
       "      <td>2017-09</td>\n",
       "      <td>Alabama</td>\n",
       "      <td>16717.0</td>\n",
       "      <td>0.0</td>\n",
       "      <td>5734.0</td>\n",
       "      <td>6320.0</td>\n",
       "      <td>221.0</td>\n",
       "      <td>317</td>\n",
       "      <td>15.0</td>\n",
       "      <td>21.0</td>\n",
       "      <td>2.0</td>\n",
       "      <td>1.0</td>\n",
       "      <td>0.0</td>\n",
       "      <td>0.0</td>\n",
       "      <td>9.0</td>\n",
       "      <td>16.0</td>\n",
       "      <td>3.0</td>\n",
       "      <td>32019</td>\n",
       "    </tr>\n",
       "    <tr>\n",
       "      <th>1</th>\n",
       "      <td>2017-09</td>\n",
       "      <td>Alaska</td>\n",
       "      <td>209.0</td>\n",
       "      <td>2.0</td>\n",
       "      <td>2320.0</td>\n",
       "      <td>2930.0</td>\n",
       "      <td>219.0</td>\n",
       "      <td>160</td>\n",
       "      <td>5.0</td>\n",
       "      <td>2.0</td>\n",
       "      <td>0.0</td>\n",
       "      <td>2.0</td>\n",
       "      <td>0.0</td>\n",
       "      <td>0.0</td>\n",
       "      <td>17.0</td>\n",
       "      <td>24.0</td>\n",
       "      <td>1.0</td>\n",
       "      <td>6303</td>\n",
       "    </tr>\n",
       "    <tr>\n",
       "      <th>2</th>\n",
       "      <td>2017-09</td>\n",
       "      <td>Arizona</td>\n",
       "      <td>5069.0</td>\n",
       "      <td>382.0</td>\n",
       "      <td>11063.0</td>\n",
       "      <td>7946.0</td>\n",
       "      <td>920.0</td>\n",
       "      <td>631</td>\n",
       "      <td>13.0</td>\n",
       "      <td>6.0</td>\n",
       "      <td>0.0</td>\n",
       "      <td>3.0</td>\n",
       "      <td>0.0</td>\n",
       "      <td>0.0</td>\n",
       "      <td>38.0</td>\n",
       "      <td>12.0</td>\n",
       "      <td>2.0</td>\n",
       "      <td>28394</td>\n",
       "    </tr>\n",
       "    <tr>\n",
       "      <th>3</th>\n",
       "      <td>2017-09</td>\n",
       "      <td>Arkansas</td>\n",
       "      <td>2935.0</td>\n",
       "      <td>632.0</td>\n",
       "      <td>4347.0</td>\n",
       "      <td>6063.0</td>\n",
       "      <td>165.0</td>\n",
       "      <td>366</td>\n",
       "      <td>12.0</td>\n",
       "      <td>13.0</td>\n",
       "      <td>0.0</td>\n",
       "      <td>4.0</td>\n",
       "      <td>0.0</td>\n",
       "      <td>0.0</td>\n",
       "      <td>13.0</td>\n",
       "      <td>23.0</td>\n",
       "      <td>0.0</td>\n",
       "      <td>17747</td>\n",
       "    </tr>\n",
       "    <tr>\n",
       "      <th>4</th>\n",
       "      <td>2017-09</td>\n",
       "      <td>California</td>\n",
       "      <td>57839.0</td>\n",
       "      <td>0.0</td>\n",
       "      <td>37165.0</td>\n",
       "      <td>24581.0</td>\n",
       "      <td>2984.0</td>\n",
       "      <td>0</td>\n",
       "      <td>0.0</td>\n",
       "      <td>0.0</td>\n",
       "      <td>0.0</td>\n",
       "      <td>5.0</td>\n",
       "      <td>0.0</td>\n",
       "      <td>0.0</td>\n",
       "      <td>0.0</td>\n",
       "      <td>0.0</td>\n",
       "      <td>0.0</td>\n",
       "      <td>123506</td>\n",
       "    </tr>\n",
       "  </tbody>\n",
       "</table>\n",
       "</div>"
      ],
      "text/plain": [
       "     month       state   permit  permit_recheck  handgun  long_gun   other  \\\n",
       "0  2017-09     Alabama  16717.0             0.0   5734.0    6320.0   221.0   \n",
       "1  2017-09      Alaska    209.0             2.0   2320.0    2930.0   219.0   \n",
       "2  2017-09     Arizona   5069.0           382.0  11063.0    7946.0   920.0   \n",
       "3  2017-09    Arkansas   2935.0           632.0   4347.0    6063.0   165.0   \n",
       "4  2017-09  California  57839.0             0.0  37165.0   24581.0  2984.0   \n",
       "\n",
       "   multiple  prepawn_handgun  prepawn_long_gun  prepawn_other  \\\n",
       "0       317             15.0              21.0            2.0   \n",
       "1       160              5.0               2.0            0.0   \n",
       "2       631             13.0               6.0            0.0   \n",
       "3       366             12.0              13.0            0.0   \n",
       "4         0              0.0               0.0            0.0   \n",
       "\n",
       "   redemption_other  rentals_handgun  rentals_long_gun  private_sale_handgun  \\\n",
       "0               1.0              0.0               0.0                   9.0   \n",
       "1               2.0              0.0               0.0                  17.0   \n",
       "2               3.0              0.0               0.0                  38.0   \n",
       "3               4.0              0.0               0.0                  13.0   \n",
       "4               5.0              0.0               0.0                   0.0   \n",
       "\n",
       "   private_sale_long_gun  private_sale_other  totals  \n",
       "0                   16.0                 3.0   32019  \n",
       "1                   24.0                 1.0    6303  \n",
       "2                   12.0                 2.0   28394  \n",
       "3                   23.0                 0.0   17747  \n",
       "4                    0.0                 0.0  123506  "
      ]
     },
     "execution_count": 19,
     "metadata": {},
     "output_type": "execute_result"
    }
   ],
   "source": [
    "#Continued to drop columns to tighty up the array.\n",
    "df_gun.drop(['redemption_handgun','redemption_long_gun','returned_handgun','returned_long_gun','returned_other'], axis=1, inplace=True)\n",
    "df_gun.head()"
   ]
  },
  {
   "cell_type": "markdown",
   "metadata": {},
   "source": [
    "> As I mentioned previously I have replaced the null values in the permits, handguns, and long_guns columns with the mean for that column. I have removed several columns that will not be necessary for this investigation. I will also look at the datatypes of the columns left. Some of the manipulation that needs to be done will require changing some of the datatypes. I have changed the datatypes for permit, handgun, and long gun to integers.\n",
    "\n",
    "### Data Cleaning (Replace this with more specific notes!)"
   ]
  },
  {
   "cell_type": "code",
   "execution_count": 20,
   "metadata": {},
   "outputs": [
    {
     "data": {
      "text/plain": [
       "month                     object\n",
       "state                     object\n",
       "permit                   float64\n",
       "permit_recheck           float64\n",
       "handgun                  float64\n",
       "long_gun                 float64\n",
       "other                    float64\n",
       "multiple                   int64\n",
       "prepawn_handgun          float64\n",
       "prepawn_long_gun         float64\n",
       "prepawn_other            float64\n",
       "redemption_other         float64\n",
       "rentals_handgun          float64\n",
       "rentals_long_gun         float64\n",
       "private_sale_handgun     float64\n",
       "private_sale_long_gun    float64\n",
       "private_sale_other       float64\n",
       "totals                     int64\n",
       "dtype: object"
      ]
     },
     "execution_count": 20,
     "metadata": {},
     "output_type": "execute_result"
    }
   ],
   "source": [
    "#Checking the datatypes so that I can evaluate which columns need to be converted. This will allow for easier manipulation.\n",
    "df_gun.dtypes"
   ]
  },
  {
   "cell_type": "code",
   "execution_count": 21,
   "metadata": {},
   "outputs": [
    {
     "data": {
      "image/png": "[encoded data removed]",
      "text/plain": [
       "<matplotlib.figure.Figure at 0x7f86a61324e0>"
      ]
     },
     "metadata": {
      "needs_background": "light"
     },
     "output_type": "display_data"
    }
   ],
   "source": [
    "#Quick view of the data in a visual to get a feel for the distribution.\n",
    "df_gun.hist(figsize=(12,12));"
   ]
  },
  {
   "cell_type": "markdown",
   "metadata": {},
   "source": [
    "I like to run the hist feature on the data frame to get an overview of the information from a visual perspective. They all are skewed to the right. "
   ]
  },
  {
   "cell_type": "code",
   "execution_count": 22,
   "metadata": {},
   "outputs": [],
   "source": [
    "#Changing the datatype for the 'permit' column.\n",
    "df_gun['permit']=df_gun.permit.astype(int)"
   ]
  },
  {
   "cell_type": "code",
   "execution_count": 23,
   "metadata": {},
   "outputs": [],
   "source": [
    "#Changing the datatype for the 'handgun' column.\n",
    "df_gun['handgun']=df_gun.handgun.astype(int)"
   ]
  },
  {
   "cell_type": "markdown",
   "metadata": {},
   "source": [
    "I wanted all of the columns I would be looking at to be integer data types. This will make it simpler to calculate with the cell values and graph them for visuals."
   ]
  },
  {
   "cell_type": "code",
   "execution_count": 24,
   "metadata": {},
   "outputs": [
    {
     "data": {
      "text/plain": [
       "7810.847585432376"
      ]
     },
     "execution_count": 24,
     "metadata": {},
     "output_type": "execute_result"
    }
   ],
   "source": [
    "#Setting a variable for the long_gun mean.\n",
    "mean_long_gun = df_gun['long_gun'].mean()\n",
    "mean_long_gun"
   ]
  },
  {
   "cell_type": "code",
   "execution_count": 57,
   "metadata": {},
   "outputs": [],
   "source": [
    "#Filling the 'null' values in teh long_gun column.\n",
    "df_gun['long_gun']= df_gun['long_gun'].fillna(mean_long_gun)"
   ]
  },
  {
   "cell_type": "code",
   "execution_count": 58,
   "metadata": {},
   "outputs": [
    {
     "data": {
      "text/plain": [
       "month                     object\n",
       "state                     object\n",
       "permit                     int64\n",
       "permit_recheck           float64\n",
       "handgun                    int64\n",
       "long_gun                   int64\n",
       "other                    float64\n",
       "multiple                   int64\n",
       "prepawn_handgun          float64\n",
       "prepawn_long_gun         float64\n",
       "prepawn_other            float64\n",
       "redemption_other         float64\n",
       "rentals_handgun          float64\n",
       "rentals_long_gun         float64\n",
       "private_sale_handgun     float64\n",
       "private_sale_long_gun    float64\n",
       "private_sale_other       float64\n",
       "totals                     int64\n",
       "dtype: object"
      ]
     },
     "execution_count": 58,
     "metadata": {},
     "output_type": "execute_result"
    }
   ],
   "source": [
    "#Changing the datatype for the long gun column.\n",
    "df_gun['long_gun']=df_gun.long_gun.astype(int)\n",
    "df_gun.dtypes\n"
   ]
  },
  {
   "cell_type": "code",
   "execution_count": 59,
   "metadata": {},
   "outputs": [
    {
     "data": {
      "text/plain": [
       "month                     object\n",
       "state                     object\n",
       "permit                     int64\n",
       "permit_recheck           float64\n",
       "handgun                    int64\n",
       "long_gun                   int64\n",
       "other                    float64\n",
       "multiple                   int64\n",
       "prepawn_handgun          float64\n",
       "prepawn_long_gun         float64\n",
       "prepawn_other            float64\n",
       "redemption_other         float64\n",
       "rentals_handgun          float64\n",
       "rentals_long_gun         float64\n",
       "private_sale_handgun     float64\n",
       "private_sale_long_gun    float64\n",
       "private_sale_other       float64\n",
       "totals                     int64\n",
       "dtype: object"
      ]
     },
     "execution_count": 59,
     "metadata": {},
     "output_type": "execute_result"
    }
   ],
   "source": [
    "#Varifying the datatype for each of the columns had changed.\n",
    "df_gun.dtypes"
   ]
  },
  {
   "cell_type": "markdown",
   "metadata": {},
   "source": [
    "<a id='eda'></a>\n",
    "## Exploratory Data Analysis\n",
    "\n",
    "\n",
    "### How does the total number of permits distributed in Washington and Alabama compare to the number of handguns purchased in each state over the ten year period? My hypothesis is that Alabama will have more permits and guns than Washington since they are considered a more conservative state."
   ]
  },
  {
   "cell_type": "code",
   "execution_count": 60,
   "metadata": {},
   "outputs": [
    {
     "data": {
      "text/html": [
       "<div>\n",
       "<style scoped>\n",
       "    .dataframe tbody tr th:only-of-type {\n",
       "        vertical-align: middle;\n",
       "    }\n",
       "\n",
       "    .dataframe tbody tr th {\n",
       "        vertical-align: top;\n",
       "    }\n",
       "\n",
       "    .dataframe thead th {\n",
       "        text-align: right;\n",
       "    }\n",
       "</style>\n",
       "<table border=\"1\" class=\"dataframe\">\n",
       "  <thead>\n",
       "    <tr style=\"text-align: right;\">\n",
       "      <th></th>\n",
       "      <th>month</th>\n",
       "      <th>state</th>\n",
       "      <th>permit</th>\n",
       "      <th>permit_recheck</th>\n",
       "      <th>handgun</th>\n",
       "      <th>long_gun</th>\n",
       "      <th>other</th>\n",
       "      <th>multiple</th>\n",
       "      <th>prepawn_handgun</th>\n",
       "      <th>prepawn_long_gun</th>\n",
       "      <th>prepawn_other</th>\n",
       "      <th>redemption_other</th>\n",
       "      <th>rentals_handgun</th>\n",
       "      <th>rentals_long_gun</th>\n",
       "      <th>private_sale_handgun</th>\n",
       "      <th>private_sale_long_gun</th>\n",
       "      <th>private_sale_other</th>\n",
       "      <th>totals</th>\n",
       "    </tr>\n",
       "  </thead>\n",
       "  <tbody>\n",
       "    <tr>\n",
       "      <th>51</th>\n",
       "      <td>2017-09</td>\n",
       "      <td>Washington</td>\n",
       "      <td>11451</td>\n",
       "      <td>44.0</td>\n",
       "      <td>13292</td>\n",
       "      <td>11548</td>\n",
       "      <td>1623.0</td>\n",
       "      <td>587</td>\n",
       "      <td>12.0</td>\n",
       "      <td>11.0</td>\n",
       "      <td>0.0</td>\n",
       "      <td>7.0</td>\n",
       "      <td>0.0</td>\n",
       "      <td>0.0</td>\n",
       "      <td>701.0</td>\n",
       "      <td>590.0</td>\n",
       "      <td>42.0</td>\n",
       "      <td>43049</td>\n",
       "    </tr>\n",
       "    <tr>\n",
       "      <th>106</th>\n",
       "      <td>2017-08</td>\n",
       "      <td>Washington</td>\n",
       "      <td>12068</td>\n",
       "      <td>51.0</td>\n",
       "      <td>13788</td>\n",
       "      <td>9776</td>\n",
       "      <td>1529.0</td>\n",
       "      <td>623</td>\n",
       "      <td>1.0</td>\n",
       "      <td>6.0</td>\n",
       "      <td>0.0</td>\n",
       "      <td>4.0</td>\n",
       "      <td>0.0</td>\n",
       "      <td>0.0</td>\n",
       "      <td>760.0</td>\n",
       "      <td>628.0</td>\n",
       "      <td>29.0</td>\n",
       "      <td>42120</td>\n",
       "    </tr>\n",
       "    <tr>\n",
       "      <th>161</th>\n",
       "      <td>2017-07</td>\n",
       "      <td>Washington</td>\n",
       "      <td>10910</td>\n",
       "      <td>58.0</td>\n",
       "      <td>12872</td>\n",
       "      <td>8636</td>\n",
       "      <td>1503.0</td>\n",
       "      <td>565</td>\n",
       "      <td>5.0</td>\n",
       "      <td>6.0</td>\n",
       "      <td>1.0</td>\n",
       "      <td>2.0</td>\n",
       "      <td>0.0</td>\n",
       "      <td>0.0</td>\n",
       "      <td>708.0</td>\n",
       "      <td>502.0</td>\n",
       "      <td>36.0</td>\n",
       "      <td>38369</td>\n",
       "    </tr>\n",
       "    <tr>\n",
       "      <th>216</th>\n",
       "      <td>2017-06</td>\n",
       "      <td>Washington</td>\n",
       "      <td>12964</td>\n",
       "      <td>49.0</td>\n",
       "      <td>16674</td>\n",
       "      <td>9805</td>\n",
       "      <td>1694.0</td>\n",
       "      <td>604</td>\n",
       "      <td>6.0</td>\n",
       "      <td>10.0</td>\n",
       "      <td>2.0</td>\n",
       "      <td>3.0</td>\n",
       "      <td>0.0</td>\n",
       "      <td>0.0</td>\n",
       "      <td>763.0</td>\n",
       "      <td>574.0</td>\n",
       "      <td>33.0</td>\n",
       "      <td>46023</td>\n",
       "    </tr>\n",
       "    <tr>\n",
       "      <th>271</th>\n",
       "      <td>2017-05</td>\n",
       "      <td>Washington</td>\n",
       "      <td>14176</td>\n",
       "      <td>42.0</td>\n",
       "      <td>15915</td>\n",
       "      <td>9682</td>\n",
       "      <td>1617.0</td>\n",
       "      <td>584</td>\n",
       "      <td>8.0</td>\n",
       "      <td>5.0</td>\n",
       "      <td>2.0</td>\n",
       "      <td>5.0</td>\n",
       "      <td>0.0</td>\n",
       "      <td>0.0</td>\n",
       "      <td>722.0</td>\n",
       "      <td>500.0</td>\n",
       "      <td>24.0</td>\n",
       "      <td>45816</td>\n",
       "    </tr>\n",
       "  </tbody>\n",
       "</table>\n",
       "</div>"
      ],
      "text/plain": [
       "       month       state  permit  permit_recheck  handgun  long_gun   other  \\\n",
       "51   2017-09  Washington   11451            44.0    13292     11548  1623.0   \n",
       "106  2017-08  Washington   12068            51.0    13788      9776  1529.0   \n",
       "161  2017-07  Washington   10910            58.0    12872      8636  1503.0   \n",
       "216  2017-06  Washington   12964            49.0    16674      9805  1694.0   \n",
       "271  2017-05  Washington   14176            42.0    15915      9682  1617.0   \n",
       "\n",
       "     multiple  prepawn_handgun  prepawn_long_gun  prepawn_other  \\\n",
       "51        587             12.0              11.0            0.0   \n",
       "106       623              1.0               6.0            0.0   \n",
       "161       565              5.0               6.0            1.0   \n",
       "216       604              6.0              10.0            2.0   \n",
       "271       584              8.0               5.0            2.0   \n",
       "\n",
       "     redemption_other  rentals_handgun  rentals_long_gun  \\\n",
       "51                7.0              0.0               0.0   \n",
       "106               4.0              0.0               0.0   \n",
       "161               2.0              0.0               0.0   \n",
       "216               3.0              0.0               0.0   \n",
       "271               5.0              0.0               0.0   \n",
       "\n",
       "     private_sale_handgun  private_sale_long_gun  private_sale_other  totals  \n",
       "51                  701.0                  590.0                42.0   43049  \n",
       "106                 760.0                  628.0                29.0   42120  \n",
       "161                 708.0                  502.0                36.0   38369  \n",
       "216                 763.0                  574.0                33.0   46023  \n",
       "271                 722.0                  500.0                24.0   45816  "
      ]
     },
     "execution_count": 60,
     "metadata": {},
     "output_type": "execute_result"
    }
   ],
   "source": [
    "#Started to seperate the Washington data as a new dataframe.\n",
    "df_wash = df_gun[df_gun['state'] == 'Washington']\n",
    "df_wash.head()\n"
   ]
  },
  {
   "cell_type": "code",
   "execution_count": 61,
   "metadata": {},
   "outputs": [
    {
     "data": {
      "text/plain": [
       "7348.7180616740088"
      ]
     },
     "execution_count": 61,
     "metadata": {},
     "output_type": "execute_result"
    }
   ],
   "source": [
    "#Finding the mean of the permits distributed in Washington over the ten year period.\n",
    "wa_per_mean = df_wash['permit'].mean()\n",
    "wa_per_mean"
   ]
  },
  {
   "cell_type": "code",
   "execution_count": 62,
   "metadata": {},
   "outputs": [
    {
     "data": {
      "text/html": [
       "<div>\n",
       "<style scoped>\n",
       "    .dataframe tbody tr th:only-of-type {\n",
       "        vertical-align: middle;\n",
       "    }\n",
       "\n",
       "    .dataframe tbody tr th {\n",
       "        vertical-align: top;\n",
       "    }\n",
       "\n",
       "    .dataframe thead th {\n",
       "        text-align: right;\n",
       "    }\n",
       "</style>\n",
       "<table border=\"1\" class=\"dataframe\">\n",
       "  <thead>\n",
       "    <tr style=\"text-align: right;\">\n",
       "      <th></th>\n",
       "      <th>month</th>\n",
       "      <th>state</th>\n",
       "      <th>permit</th>\n",
       "      <th>permit_recheck</th>\n",
       "      <th>handgun</th>\n",
       "      <th>long_gun</th>\n",
       "      <th>other</th>\n",
       "      <th>multiple</th>\n",
       "      <th>prepawn_handgun</th>\n",
       "      <th>prepawn_long_gun</th>\n",
       "      <th>prepawn_other</th>\n",
       "      <th>redemption_other</th>\n",
       "      <th>rentals_handgun</th>\n",
       "      <th>rentals_long_gun</th>\n",
       "      <th>private_sale_handgun</th>\n",
       "      <th>private_sale_long_gun</th>\n",
       "      <th>private_sale_other</th>\n",
       "      <th>totals</th>\n",
       "    </tr>\n",
       "  </thead>\n",
       "  <tbody>\n",
       "    <tr>\n",
       "      <th>0</th>\n",
       "      <td>2017-09</td>\n",
       "      <td>Alabama</td>\n",
       "      <td>16717</td>\n",
       "      <td>0.0</td>\n",
       "      <td>5734</td>\n",
       "      <td>6320</td>\n",
       "      <td>221.0</td>\n",
       "      <td>317</td>\n",
       "      <td>15.0</td>\n",
       "      <td>21.0</td>\n",
       "      <td>2.0</td>\n",
       "      <td>1.0</td>\n",
       "      <td>0.0</td>\n",
       "      <td>0.0</td>\n",
       "      <td>9.0</td>\n",
       "      <td>16.0</td>\n",
       "      <td>3.0</td>\n",
       "      <td>32019</td>\n",
       "    </tr>\n",
       "    <tr>\n",
       "      <th>55</th>\n",
       "      <td>2017-08</td>\n",
       "      <td>Alabama</td>\n",
       "      <td>19733</td>\n",
       "      <td>4.0</td>\n",
       "      <td>6289</td>\n",
       "      <td>6045</td>\n",
       "      <td>216.0</td>\n",
       "      <td>311</td>\n",
       "      <td>10.0</td>\n",
       "      <td>13.0</td>\n",
       "      <td>2.0</td>\n",
       "      <td>3.0</td>\n",
       "      <td>0.0</td>\n",
       "      <td>0.0</td>\n",
       "      <td>14.0</td>\n",
       "      <td>11.0</td>\n",
       "      <td>2.0</td>\n",
       "      <td>35038</td>\n",
       "    </tr>\n",
       "    <tr>\n",
       "      <th>110</th>\n",
       "      <td>2017-07</td>\n",
       "      <td>Alabama</td>\n",
       "      <td>18042</td>\n",
       "      <td>1.0</td>\n",
       "      <td>6046</td>\n",
       "      <td>4790</td>\n",
       "      <td>224.0</td>\n",
       "      <td>258</td>\n",
       "      <td>7.0</td>\n",
       "      <td>13.0</td>\n",
       "      <td>0.0</td>\n",
       "      <td>0.0</td>\n",
       "      <td>0.0</td>\n",
       "      <td>0.0</td>\n",
       "      <td>12.0</td>\n",
       "      <td>8.0</td>\n",
       "      <td>0.0</td>\n",
       "      <td>31474</td>\n",
       "    </tr>\n",
       "    <tr>\n",
       "      <th>165</th>\n",
       "      <td>2017-06</td>\n",
       "      <td>Alabama</td>\n",
       "      <td>19508</td>\n",
       "      <td>89.0</td>\n",
       "      <td>8275</td>\n",
       "      <td>4782</td>\n",
       "      <td>254.0</td>\n",
       "      <td>334</td>\n",
       "      <td>11.0</td>\n",
       "      <td>11.0</td>\n",
       "      <td>2.0</td>\n",
       "      <td>2.0</td>\n",
       "      <td>0.0</td>\n",
       "      <td>0.0</td>\n",
       "      <td>16.0</td>\n",
       "      <td>9.0</td>\n",
       "      <td>0.0</td>\n",
       "      <td>35687</td>\n",
       "    </tr>\n",
       "    <tr>\n",
       "      <th>220</th>\n",
       "      <td>2017-05</td>\n",
       "      <td>Alabama</td>\n",
       "      <td>18538</td>\n",
       "      <td>313.0</td>\n",
       "      <td>7198</td>\n",
       "      <td>4559</td>\n",
       "      <td>254.0</td>\n",
       "      <td>309</td>\n",
       "      <td>5.0</td>\n",
       "      <td>15.0</td>\n",
       "      <td>0.0</td>\n",
       "      <td>4.0</td>\n",
       "      <td>0.0</td>\n",
       "      <td>0.0</td>\n",
       "      <td>12.0</td>\n",
       "      <td>11.0</td>\n",
       "      <td>1.0</td>\n",
       "      <td>33331</td>\n",
       "    </tr>\n",
       "  </tbody>\n",
       "</table>\n",
       "</div>"
      ],
      "text/plain": [
       "       month    state  permit  permit_recheck  handgun  long_gun  other  \\\n",
       "0    2017-09  Alabama   16717             0.0     5734      6320  221.0   \n",
       "55   2017-08  Alabama   19733             4.0     6289      6045  216.0   \n",
       "110  2017-07  Alabama   18042             1.0     6046      4790  224.0   \n",
       "165  2017-06  Alabama   19508            89.0     8275      4782  254.0   \n",
       "220  2017-05  Alabama   18538           313.0     7198      4559  254.0   \n",
       "\n",
       "     multiple  prepawn_handgun  prepawn_long_gun  prepawn_other  \\\n",
       "0         317             15.0              21.0            2.0   \n",
       "55        311             10.0              13.0            2.0   \n",
       "110       258              7.0              13.0            0.0   \n",
       "165       334             11.0              11.0            2.0   \n",
       "220       309              5.0              15.0            0.0   \n",
       "\n",
       "     redemption_other  rentals_handgun  rentals_long_gun  \\\n",
       "0                 1.0              0.0               0.0   \n",
       "55                3.0              0.0               0.0   \n",
       "110               0.0              0.0               0.0   \n",
       "165               2.0              0.0               0.0   \n",
       "220               4.0              0.0               0.0   \n",
       "\n",
       "     private_sale_handgun  private_sale_long_gun  private_sale_other  totals  \n",
       "0                     9.0                   16.0                 3.0   32019  \n",
       "55                   14.0                   11.0                 2.0   35038  \n",
       "110                  12.0                    8.0                 0.0   31474  \n",
       "165                  16.0                    9.0                 0.0   35687  \n",
       "220                  12.0                   11.0                 1.0   33331  "
      ]
     },
     "execution_count": 62,
     "metadata": {},
     "output_type": "execute_result"
    }
   ],
   "source": [
    "#Creating the dataframe for the Alabama gun data.\n",
    "df_alab = df_gun[df_gun['state'] == 'Alabama']\n",
    "df_alab.head()"
   ]
  },
  {
   "cell_type": "markdown",
   "metadata": {},
   "source": [
    "I seperated the two states out of the national data frame for comparison. I have ran a couple statistical functions to get a feel for the data."
   ]
  },
  {
   "cell_type": "code",
   "execution_count": 63,
   "metadata": {},
   "outputs": [
    {
     "data": {
      "text/plain": [
       "4614.277533039648"
      ]
     },
     "execution_count": 63,
     "metadata": {},
     "output_type": "execute_result"
    }
   ],
   "source": [
    "#Defining the variable for the mean for the Alabama permit sales.\n",
    "alab_per_mean = df_alab['permit'].mean()\n",
    "alab_per_mean"
   ]
  },
  {
   "cell_type": "code",
   "execution_count": 64,
   "metadata": {
    "scrolled": true
   },
   "outputs": [
    {
     "data": {
      "text/plain": [
       "80074148"
      ]
     },
     "execution_count": 64,
     "metadata": {},
     "output_type": "execute_result"
    }
   ],
   "source": [
    "#Defining the variable for the U.S. permit total.\n",
    "us_permit_total = df_gun['permit'].sum()\n",
    "us_permit_total"
   ]
  },
  {
   "cell_type": "code",
   "execution_count": 65,
   "metadata": {},
   "outputs": [
    {
     "data": {
      "text/plain": [
       "74171883"
      ]
     },
     "execution_count": 65,
     "metadata": {},
     "output_type": "execute_result"
    }
   ],
   "source": [
    "#Defining the variable for the U.S. handgun total.\n",
    "us_handgun_total = df_gun['handgun'].sum()\n",
    "us_handgun_total"
   ]
  },
  {
   "cell_type": "code",
   "execution_count": 66,
   "metadata": {},
   "outputs": [
    {
     "data": {
      "text/plain": [
       "2025498"
      ]
     },
     "execution_count": 66,
     "metadata": {},
     "output_type": "execute_result"
    }
   ],
   "source": [
    "#Defining the variable for the Washington handgun total.\n",
    "wash_handgun_tot = df_wash['handgun'].sum()\n",
    "wash_handgun_tot"
   ]
  },
  {
   "cell_type": "code",
   "execution_count": 67,
   "metadata": {},
   "outputs": [
    {
     "data": {
      "text/plain": [
       "2222037"
      ]
     },
     "execution_count": 67,
     "metadata": {},
     "output_type": "execute_result"
    }
   ],
   "source": [
    "#Defining the variable for the Alabama handgun total.\n",
    "alab_handgun_tot = df_alab['handgun'].sum()\n",
    "alab_handgun_tot"
   ]
  },
  {
   "cell_type": "code",
   "execution_count": 68,
   "metadata": {},
   "outputs": [
    {
     "data": {
      "text/plain": [
       "1668159"
      ]
     },
     "execution_count": 68,
     "metadata": {},
     "output_type": "execute_result"
    }
   ],
   "source": [
    "#Defining the variable for the Washington permit total.\n",
    "wash_permit_tot = df_wash['permit'].sum()\n",
    "wash_permit_tot"
   ]
  },
  {
   "cell_type": "code",
   "execution_count": 69,
   "metadata": {},
   "outputs": [
    {
     "data": {
      "text/plain": [
       "1047441"
      ]
     },
     "execution_count": 69,
     "metadata": {},
     "output_type": "execute_result"
    }
   ],
   "source": [
    "#Defining the variable for the Alabama permit total.\n",
    "alab_permit_tot = df_alab['permit'].sum()\n",
    "alab_permit_tot"
   ]
  },
  {
   "cell_type": "code",
   "execution_count": 70,
   "metadata": {},
   "outputs": [
    {
     "data": {
      "image/png": "[encoded data removed]",
      "text/plain": [
       "<matplotlib.figure.Figure at 0x7f86a588e5f8>"
      ]
     },
     "metadata": {
      "needs_background": "light"
     },
     "output_type": "display_data"
    }
   ],
   "source": [
    "#Created ta bar graph for the hangun sales and the permit sales in each state. Displayed them on the same \n",
    "#chart so that a comparison would be easier.\n",
    "plt.bar(['Washington','Alabama'],[wash_handgun_tot,alab_handgun_tot], alpha=.5, label='Number of Handguns')\n",
    "plt.bar(['Washington','Alabama'],[wash_permit_tot,alab_permit_tot], alpha=.5, label = 'Number of Permits')\n",
    "plt.ylabel('Total Number of Handguns from 2009 - 2017')\n",
    "plt.xlabel('Alabama vs. Washington State')\n",
    "plt.title('The State Number of Handguns Distributed from 2009 - 2017')\n",
    "plt.legend();"
   ]
  },
  {
   "cell_type": "markdown",
   "metadata": {},
   "source": [
    "This visual shows the comparison of permits sold to the number of handguns sold over the ten year period. It appears that there are more permits sold in Washington, but they sell fewer handguns."
   ]
  },
  {
   "cell_type": "code",
   "execution_count": 71,
   "metadata": {},
   "outputs": [
    {
     "data": {
      "text/plain": [
       "(0.92629000560830199, 1.2142115949378927, 2.1213958590507724)"
      ]
     },
     "execution_count": 71,
     "metadata": {},
     "output_type": "execute_result"
    }
   ],
   "source": [
    "#Calculated the ratio of handgun sales and the number of permits in each state and the U.S. Defined a variable for each.\n",
    "us_perm_ratio = us_handgun_total/us_permit_total\n",
    "wash_perm_ratio = wash_handgun_tot/wash_permit_tot\n",
    "alab_perm_ratio = alab_handgun_tot/alab_permit_tot\n",
    "us_perm_ratio, wash_perm_ratio, alab_perm_ratio"
   ]
  },
  {
   "cell_type": "code",
   "execution_count": 72,
   "metadata": {},
   "outputs": [
    {
     "data": {
      "image/png": "[encoded data removed]",
      "text/plain": [
       "<matplotlib.figure.Figure at 0x7f86a5c44438>"
      ]
     },
     "metadata": {
      "needs_background": "light"
     },
     "output_type": "display_data"
    }
   ],
   "source": [
    "#Plotted the ratios for all three on a bar graph. This allows the viewer to see the relationship between the different \n",
    "#entities.\n",
    "plt.bar(['Washington','Alabama','United States'],[wash_perm_ratio, alab_perm_ratio, us_perm_ratio])\n",
    "plt.title('Ratio of Handgun Totals to Permits Assigned')\n",
    "plt.ylabel('Ratio of Hanguns to Permits');"
   ]
  },
  {
   "cell_type": "markdown",
   "metadata": {},
   "source": [
    "The findings are interesting, although Washington has more permits distributed, Alabama has more handguns. I realized that the number of handguns does not rely on the number of permits. A person could have one permit and several handguns. This could mean that gun owners in Alabama have multiple guns in their possession.\n",
    "\n",
    "I decided to compare this to the national ratio of guns to permits. Alabama is still far exceeding the ratio of handguns to permits. The ratio says that on average every permit owner has at least two handguns. In Washington state and across the U.S. the ratio is closer to one handgun per permit."
   ]
  },
  {
   "cell_type": "markdown",
   "metadata": {},
   "source": [
    "### Research Question 2  - Is there a correlation between long gun sales and handgun sales? Do sales increases of long guns coincide with sales increases in handguns?"
   ]
  },
  {
   "cell_type": "code",
   "execution_count": 73,
   "metadata": {},
   "outputs": [
    {
     "data": {
      "text/plain": [
       "''"
      ]
     },
     "execution_count": 73,
     "metadata": {},
     "output_type": "execute_result"
    },
    {
     "data": {
      "image/png": "[encoded data removed]",
      "text/plain": [
       "<matplotlib.figure.Figure at 0x7f86a5be96a0>"
      ]
     },
     "metadata": {
      "needs_background": "light"
     },
     "output_type": "display_data"
    }
   ],
   "source": [
    "#This scatter plot is created to compare the long gun sales to the handgun sales in Washington. As you can see \n",
    "#there is a positive correlation.\n",
    "df_wash.plot(x='long_gun', y='handgun', kind='scatter')\n",
    "plt.title('Washington Handgun to Long Gun Sales 2009-2017')\n",
    "plt.xlabel('Handgun Sales')\n",
    "plt.ylabel('Long Gun Sales')\n",
    ";"
   ]
  },
  {
   "cell_type": "code",
   "execution_count": 74,
   "metadata": {},
   "outputs": [
    {
     "data": {
      "image/png": "[encoded data removed]",
      "text/plain": [
       "<matplotlib.figure.Figure at 0x7f86a56f58d0>"
      ]
     },
     "metadata": {
      "needs_background": "light"
     },
     "output_type": "display_data"
    }
   ],
   "source": [
    "#This is the same scatter plot for the U.S. handgun sales vs. long gun sales.\n",
    "df_gun.plot(x='long_gun', y='handgun', kind='scatter')\n",
    "plt.title('U.S. Handgun to Long Gun Sales 2009-2017')\n",
    "plt.xlabel('Handgun Sales')\n",
    "plt.ylabel('Long Gun Sales');"
   ]
  },
  {
   "cell_type": "code",
   "execution_count": 75,
   "metadata": {},
   "outputs": [
    {
     "data": {
      "image/png": "[encoded data removed]",
      "text/plain": [
       "<matplotlib.figure.Figure at 0x7f86a84b7978>"
      ]
     },
     "metadata": {
      "needs_background": "light"
     },
     "output_type": "display_data"
    }
   ],
   "source": [
    "#The last scatter plot is representing Alabama's long gun vs. Handgun sales. \n",
    "df_alab.plot(x='long_gun', y='handgun', kind='scatter')\n",
    "plt.title('Alabama Handgun to Long Gun Sales 2009-2017')\n",
    "plt.xlabel('Handgun Sales')\n",
    "plt.ylabel('Long Gun Sales');"
   ]
  },
  {
   "cell_type": "code",
   "execution_count": 76,
   "metadata": {},
   "outputs": [
    {
     "data": {
      "text/plain": [
       "(3201.8521021990355, 5622.6320786564529)"
      ]
     },
     "execution_count": 76,
     "metadata": {},
     "output_type": "execute_result"
    }
   ],
   "source": [
    "#Calculating the standard deviation for the Washington long gun and handgun sales.\n",
    "wa_lg_std = np.std(df_wash['long_gun'])\n",
    "wa_hg_std = np.std(df_wash['handgun'])\n",
    "wa_lg_std,wa_hg_std"
   ]
  },
  {
   "cell_type": "code",
   "execution_count": 77,
   "metadata": {},
   "outputs": [
    {
     "data": {
      "text/plain": [
       "(6321.7572784518843, 5357.0644917089166)"
      ]
     },
     "execution_count": 77,
     "metadata": {},
     "output_type": "execute_result"
    }
   ],
   "source": [
    "#Calculating the standard deviation for the Alabama long gun and handgun sales.\n",
    "al_lg_std = np.std(df_alab['long_gun'])\n",
    "al_hg_std = np.std(df_alab['handgun'])\n",
    "al_lg_std,al_hg_std"
   ]
  },
  {
   "cell_type": "code",
   "execution_count": 81,
   "metadata": {},
   "outputs": [
    {
     "data": {
      "text/plain": [
       "(0.027308164739460638, 0.02995794241869254)"
      ]
     },
     "execution_count": 81,
     "metadata": {},
     "output_type": "execute_result"
    }
   ],
   "source": [
    "#These calculation are finding the percentage of national handgun sales for Washington and Alabama.\n",
    "wash_perc_hg = wash_handgun_tot/handgun_tot\n",
    "ala_perc_hg = alab_handgun_tot/handgun_tot\n",
    "wash_perc_hg, ala_perc_hg"
   ]
  },
  {
   "cell_type": "code",
   "execution_count": 47,
   "metadata": {},
   "outputs": [
    {
     "data": {
      "text/html": [
       "<div>\n",
       "<style scoped>\n",
       "    .dataframe tbody tr th:only-of-type {\n",
       "        vertical-align: middle;\n",
       "    }\n",
       "\n",
       "    .dataframe tbody tr th {\n",
       "        vertical-align: top;\n",
       "    }\n",
       "\n",
       "    .dataframe thead th {\n",
       "        text-align: right;\n",
       "    }\n",
       "</style>\n",
       "<table border=\"1\" class=\"dataframe\">\n",
       "  <thead>\n",
       "    <tr style=\"text-align: right;\">\n",
       "      <th></th>\n",
       "      <th>permit</th>\n",
       "      <th>permit_recheck</th>\n",
       "      <th>handgun</th>\n",
       "      <th>long_gun</th>\n",
       "      <th>other</th>\n",
       "      <th>multiple</th>\n",
       "      <th>prepawn_handgun</th>\n",
       "      <th>prepawn_long_gun</th>\n",
       "      <th>prepawn_other</th>\n",
       "      <th>redemption_other</th>\n",
       "      <th>rentals_handgun</th>\n",
       "      <th>rentals_long_gun</th>\n",
       "      <th>private_sale_handgun</th>\n",
       "      <th>private_sale_long_gun</th>\n",
       "      <th>private_sale_other</th>\n",
       "      <th>totals</th>\n",
       "    </tr>\n",
       "  </thead>\n",
       "  <tbody>\n",
       "    <tr>\n",
       "      <th>count</th>\n",
       "      <td>227.000000</td>\n",
       "      <td>20.000000</td>\n",
       "      <td>227.000000</td>\n",
       "      <td>227.000000</td>\n",
       "      <td>100.000000</td>\n",
       "      <td>227.000000</td>\n",
       "      <td>192.000000</td>\n",
       "      <td>192.000000</td>\n",
       "      <td>93.000000</td>\n",
       "      <td>93.000000</td>\n",
       "      <td>18.0</td>\n",
       "      <td>15.0</td>\n",
       "      <td>50.000000</td>\n",
       "      <td>50.000000</td>\n",
       "      <td>50.000000</td>\n",
       "      <td>227.000000</td>\n",
       "    </tr>\n",
       "    <tr>\n",
       "      <th>mean</th>\n",
       "      <td>7348.718062</td>\n",
       "      <td>61.650000</td>\n",
       "      <td>8922.898678</td>\n",
       "      <td>9031.497797</td>\n",
       "      <td>1011.200000</td>\n",
       "      <td>379.744493</td>\n",
       "      <td>4.817708</td>\n",
       "      <td>6.901042</td>\n",
       "      <td>0.505376</td>\n",
       "      <td>2.978495</td>\n",
       "      <td>0.0</td>\n",
       "      <td>0.0</td>\n",
       "      <td>328.520000</td>\n",
       "      <td>264.560000</td>\n",
       "      <td>18.620000</td>\n",
       "      <td>28125.625551</td>\n",
       "    </tr>\n",
       "    <tr>\n",
       "      <th>std</th>\n",
       "      <td>7173.377039</td>\n",
       "      <td>59.771737</td>\n",
       "      <td>5635.057800</td>\n",
       "      <td>3208.928027</td>\n",
       "      <td>636.014516</td>\n",
       "      <td>193.143639</td>\n",
       "      <td>3.974144</td>\n",
       "      <td>6.462587</td>\n",
       "      <td>0.842146</td>\n",
       "      <td>2.963468</td>\n",
       "      <td>0.0</td>\n",
       "      <td>0.0</td>\n",
       "      <td>315.428781</td>\n",
       "      <td>245.464338</td>\n",
       "      <td>18.583392</td>\n",
       "      <td>15639.563438</td>\n",
       "    </tr>\n",
       "    <tr>\n",
       "      <th>min</th>\n",
       "      <td>1.000000</td>\n",
       "      <td>0.000000</td>\n",
       "      <td>65.000000</td>\n",
       "      <td>286.000000</td>\n",
       "      <td>17.000000</td>\n",
       "      <td>8.000000</td>\n",
       "      <td>0.000000</td>\n",
       "      <td>0.000000</td>\n",
       "      <td>0.000000</td>\n",
       "      <td>0.000000</td>\n",
       "      <td>0.0</td>\n",
       "      <td>0.0</td>\n",
       "      <td>0.000000</td>\n",
       "      <td>0.000000</td>\n",
       "      <td>0.000000</td>\n",
       "      <td>361.000000</td>\n",
       "    </tr>\n",
       "    <tr>\n",
       "      <th>25%</th>\n",
       "      <td>3372.000000</td>\n",
       "      <td>7.250000</td>\n",
       "      <td>4240.500000</td>\n",
       "      <td>6644.500000</td>\n",
       "      <td>441.250000</td>\n",
       "      <td>243.000000</td>\n",
       "      <td>2.000000</td>\n",
       "      <td>3.000000</td>\n",
       "      <td>0.000000</td>\n",
       "      <td>1.000000</td>\n",
       "      <td>0.0</td>\n",
       "      <td>0.0</td>\n",
       "      <td>0.000000</td>\n",
       "      <td>0.000000</td>\n",
       "      <td>0.000000</td>\n",
       "      <td>16461.500000</td>\n",
       "    </tr>\n",
       "    <tr>\n",
       "      <th>50%</th>\n",
       "      <td>6085.000000</td>\n",
       "      <td>48.000000</td>\n",
       "      <td>7347.000000</td>\n",
       "      <td>8666.000000</td>\n",
       "      <td>884.000000</td>\n",
       "      <td>313.000000</td>\n",
       "      <td>4.000000</td>\n",
       "      <td>5.000000</td>\n",
       "      <td>0.000000</td>\n",
       "      <td>2.000000</td>\n",
       "      <td>0.0</td>\n",
       "      <td>0.0</td>\n",
       "      <td>297.500000</td>\n",
       "      <td>252.500000</td>\n",
       "      <td>16.500000</td>\n",
       "      <td>23879.000000</td>\n",
       "    </tr>\n",
       "    <tr>\n",
       "      <th>75%</th>\n",
       "      <td>9575.000000</td>\n",
       "      <td>102.750000</td>\n",
       "      <td>12794.500000</td>\n",
       "      <td>10627.000000</td>\n",
       "      <td>1425.000000</td>\n",
       "      <td>506.000000</td>\n",
       "      <td>6.000000</td>\n",
       "      <td>8.000000</td>\n",
       "      <td>1.000000</td>\n",
       "      <td>5.000000</td>\n",
       "      <td>0.0</td>\n",
       "      <td>0.0</td>\n",
       "      <td>573.250000</td>\n",
       "      <td>476.000000</td>\n",
       "      <td>30.750000</td>\n",
       "      <td>37351.500000</td>\n",
       "    </tr>\n",
       "    <tr>\n",
       "      <th>max</th>\n",
       "      <td>89199.000000</td>\n",
       "      <td>210.000000</td>\n",
       "      <td>29473.000000</td>\n",
       "      <td>28335.000000</td>\n",
       "      <td>2650.000000</td>\n",
       "      <td>986.000000</td>\n",
       "      <td>20.000000</td>\n",
       "      <td>49.000000</td>\n",
       "      <td>4.000000</td>\n",
       "      <td>17.000000</td>\n",
       "      <td>0.0</td>\n",
       "      <td>0.0</td>\n",
       "      <td>1017.000000</td>\n",
       "      <td>777.000000</td>\n",
       "      <td>71.000000</td>\n",
       "      <td>126000.000000</td>\n",
       "    </tr>\n",
       "  </tbody>\n",
       "</table>\n",
       "</div>"
      ],
      "text/plain": [
       "             permit  permit_recheck       handgun      long_gun        other  \\\n",
       "count    227.000000       20.000000    227.000000    227.000000   100.000000   \n",
       "mean    7348.718062       61.650000   8922.898678   9031.497797  1011.200000   \n",
       "std     7173.377039       59.771737   5635.057800   3208.928027   636.014516   \n",
       "min        1.000000        0.000000     65.000000    286.000000    17.000000   \n",
       "25%     3372.000000        7.250000   4240.500000   6644.500000   441.250000   \n",
       "50%     6085.000000       48.000000   7347.000000   8666.000000   884.000000   \n",
       "75%     9575.000000      102.750000  12794.500000  10627.000000  1425.000000   \n",
       "max    89199.000000      210.000000  29473.000000  28335.000000  2650.000000   \n",
       "\n",
       "         multiple  prepawn_handgun  prepawn_long_gun  prepawn_other  \\\n",
       "count  227.000000       192.000000        192.000000      93.000000   \n",
       "mean   379.744493         4.817708          6.901042       0.505376   \n",
       "std    193.143639         3.974144          6.462587       0.842146   \n",
       "min      8.000000         0.000000          0.000000       0.000000   \n",
       "25%    243.000000         2.000000          3.000000       0.000000   \n",
       "50%    313.000000         4.000000          5.000000       0.000000   \n",
       "75%    506.000000         6.000000          8.000000       1.000000   \n",
       "max    986.000000        20.000000         49.000000       4.000000   \n",
       "\n",
       "       redemption_other  rentals_handgun  rentals_long_gun  \\\n",
       "count         93.000000             18.0              15.0   \n",
       "mean           2.978495              0.0               0.0   \n",
       "std            2.963468              0.0               0.0   \n",
       "min            0.000000              0.0               0.0   \n",
       "25%            1.000000              0.0               0.0   \n",
       "50%            2.000000              0.0               0.0   \n",
       "75%            5.000000              0.0               0.0   \n",
       "max           17.000000              0.0               0.0   \n",
       "\n",
       "       private_sale_handgun  private_sale_long_gun  private_sale_other  \\\n",
       "count             50.000000              50.000000           50.000000   \n",
       "mean             328.520000             264.560000           18.620000   \n",
       "std              315.428781             245.464338           18.583392   \n",
       "min                0.000000               0.000000            0.000000   \n",
       "25%                0.000000               0.000000            0.000000   \n",
       "50%              297.500000             252.500000           16.500000   \n",
       "75%              573.250000             476.000000           30.750000   \n",
       "max             1017.000000             777.000000           71.000000   \n",
       "\n",
       "              totals  \n",
       "count     227.000000  \n",
       "mean    28125.625551  \n",
       "std     15639.563438  \n",
       "min       361.000000  \n",
       "25%     16461.500000  \n",
       "50%     23879.000000  \n",
       "75%     37351.500000  \n",
       "max    126000.000000  "
      ]
     },
     "execution_count": 47,
     "metadata": {},
     "output_type": "execute_result"
    }
   ],
   "source": [
    "#The statistical information for Washington.\n",
    "df_wash.describe()"
   ]
  },
  {
   "cell_type": "code",
   "execution_count": 48,
   "metadata": {},
   "outputs": [
    {
     "data": {
      "text/html": [
       "<div>\n",
       "<style scoped>\n",
       "    .dataframe tbody tr th:only-of-type {\n",
       "        vertical-align: middle;\n",
       "    }\n",
       "\n",
       "    .dataframe tbody tr th {\n",
       "        vertical-align: top;\n",
       "    }\n",
       "\n",
       "    .dataframe thead th {\n",
       "        text-align: right;\n",
       "    }\n",
       "</style>\n",
       "<table border=\"1\" class=\"dataframe\">\n",
       "  <thead>\n",
       "    <tr style=\"text-align: right;\">\n",
       "      <th></th>\n",
       "      <th>permit</th>\n",
       "      <th>permit_recheck</th>\n",
       "      <th>handgun</th>\n",
       "      <th>long_gun</th>\n",
       "      <th>other</th>\n",
       "      <th>multiple</th>\n",
       "      <th>prepawn_handgun</th>\n",
       "      <th>prepawn_long_gun</th>\n",
       "      <th>prepawn_other</th>\n",
       "      <th>redemption_other</th>\n",
       "      <th>rentals_handgun</th>\n",
       "      <th>rentals_long_gun</th>\n",
       "      <th>private_sale_handgun</th>\n",
       "      <th>private_sale_long_gun</th>\n",
       "      <th>private_sale_other</th>\n",
       "      <th>totals</th>\n",
       "    </tr>\n",
       "  </thead>\n",
       "  <tbody>\n",
       "    <tr>\n",
       "      <th>count</th>\n",
       "      <td>227.000000</td>\n",
       "      <td>20.000000</td>\n",
       "      <td>227.000000</td>\n",
       "      <td>227.000000</td>\n",
       "      <td>100.000000</td>\n",
       "      <td>227.000000</td>\n",
       "      <td>192.000000</td>\n",
       "      <td>192.000000</td>\n",
       "      <td>93.000000</td>\n",
       "      <td>93.000000</td>\n",
       "      <td>18.000000</td>\n",
       "      <td>15.0</td>\n",
       "      <td>50.00000</td>\n",
       "      <td>50.000000</td>\n",
       "      <td>50.000000</td>\n",
       "      <td>227.000000</td>\n",
       "    </tr>\n",
       "    <tr>\n",
       "      <th>mean</th>\n",
       "      <td>4614.277533</td>\n",
       "      <td>37.450000</td>\n",
       "      <td>9788.709251</td>\n",
       "      <td>11568.409692</td>\n",
       "      <td>395.780000</td>\n",
       "      <td>463.568282</td>\n",
       "      <td>22.078125</td>\n",
       "      <td>33.036458</td>\n",
       "      <td>0.279570</td>\n",
       "      <td>4.473118</td>\n",
       "      <td>0.055556</td>\n",
       "      <td>0.0</td>\n",
       "      <td>4.48000</td>\n",
       "      <td>4.140000</td>\n",
       "      <td>0.380000</td>\n",
       "      <td>29542.198238</td>\n",
       "    </tr>\n",
       "    <tr>\n",
       "      <th>std</th>\n",
       "      <td>8629.991436</td>\n",
       "      <td>100.906666</td>\n",
       "      <td>5368.903323</td>\n",
       "      <td>6335.728030</td>\n",
       "      <td>268.012309</td>\n",
       "      <td>251.687365</td>\n",
       "      <td>18.079787</td>\n",
       "      <td>29.561077</td>\n",
       "      <td>0.614421</td>\n",
       "      <td>2.756776</td>\n",
       "      <td>0.235702</td>\n",
       "      <td>0.0</td>\n",
       "      <td>5.97013</td>\n",
       "      <td>5.595224</td>\n",
       "      <td>0.878078</td>\n",
       "      <td>16526.615233</td>\n",
       "    </tr>\n",
       "    <tr>\n",
       "      <th>min</th>\n",
       "      <td>0.000000</td>\n",
       "      <td>0.000000</td>\n",
       "      <td>449.000000</td>\n",
       "      <td>603.000000</td>\n",
       "      <td>10.000000</td>\n",
       "      <td>10.000000</td>\n",
       "      <td>1.000000</td>\n",
       "      <td>3.000000</td>\n",
       "      <td>0.000000</td>\n",
       "      <td>0.000000</td>\n",
       "      <td>0.000000</td>\n",
       "      <td>0.0</td>\n",
       "      <td>0.00000</td>\n",
       "      <td>0.000000</td>\n",
       "      <td>0.000000</td>\n",
       "      <td>1062.000000</td>\n",
       "    </tr>\n",
       "    <tr>\n",
       "      <th>25%</th>\n",
       "      <td>0.000000</td>\n",
       "      <td>0.000000</td>\n",
       "      <td>6456.500000</td>\n",
       "      <td>7433.500000</td>\n",
       "      <td>176.000000</td>\n",
       "      <td>293.000000</td>\n",
       "      <td>9.000000</td>\n",
       "      <td>12.000000</td>\n",
       "      <td>0.000000</td>\n",
       "      <td>2.000000</td>\n",
       "      <td>0.000000</td>\n",
       "      <td>0.0</td>\n",
       "      <td>0.00000</td>\n",
       "      <td>0.000000</td>\n",
       "      <td>0.000000</td>\n",
       "      <td>18041.500000</td>\n",
       "    </tr>\n",
       "    <tr>\n",
       "      <th>50%</th>\n",
       "      <td>0.000000</td>\n",
       "      <td>0.000000</td>\n",
       "      <td>8101.000000</td>\n",
       "      <td>9837.000000</td>\n",
       "      <td>334.500000</td>\n",
       "      <td>379.000000</td>\n",
       "      <td>13.000000</td>\n",
       "      <td>17.000000</td>\n",
       "      <td>0.000000</td>\n",
       "      <td>4.000000</td>\n",
       "      <td>0.000000</td>\n",
       "      <td>0.0</td>\n",
       "      <td>0.00000</td>\n",
       "      <td>0.000000</td>\n",
       "      <td>0.000000</td>\n",
       "      <td>24123.000000</td>\n",
       "    </tr>\n",
       "    <tr>\n",
       "      <th>75%</th>\n",
       "      <td>675.500000</td>\n",
       "      <td>1.250000</td>\n",
       "      <td>11544.000000</td>\n",
       "      <td>13169.500000</td>\n",
       "      <td>538.750000</td>\n",
       "      <td>563.000000</td>\n",
       "      <td>35.250000</td>\n",
       "      <td>52.000000</td>\n",
       "      <td>0.000000</td>\n",
       "      <td>6.000000</td>\n",
       "      <td>0.000000</td>\n",
       "      <td>0.0</td>\n",
       "      <td>9.00000</td>\n",
       "      <td>8.000000</td>\n",
       "      <td>0.000000</td>\n",
       "      <td>38528.000000</td>\n",
       "    </tr>\n",
       "    <tr>\n",
       "      <th>max</th>\n",
       "      <td>31359.000000</td>\n",
       "      <td>340.000000</td>\n",
       "      <td>47605.000000</td>\n",
       "      <td>42433.000000</td>\n",
       "      <td>1698.000000</td>\n",
       "      <td>1752.000000</td>\n",
       "      <td>76.000000</td>\n",
       "      <td>132.000000</td>\n",
       "      <td>3.000000</td>\n",
       "      <td>11.000000</td>\n",
       "      <td>1.000000</td>\n",
       "      <td>0.0</td>\n",
       "      <td>17.00000</td>\n",
       "      <td>18.000000</td>\n",
       "      <td>4.000000</td>\n",
       "      <td>120914.000000</td>\n",
       "    </tr>\n",
       "  </tbody>\n",
       "</table>\n",
       "</div>"
      ],
      "text/plain": [
       "             permit  permit_recheck       handgun      long_gun        other  \\\n",
       "count    227.000000       20.000000    227.000000    227.000000   100.000000   \n",
       "mean    4614.277533       37.450000   9788.709251  11568.409692   395.780000   \n",
       "std     8629.991436      100.906666   5368.903323   6335.728030   268.012309   \n",
       "min        0.000000        0.000000    449.000000    603.000000    10.000000   \n",
       "25%        0.000000        0.000000   6456.500000   7433.500000   176.000000   \n",
       "50%        0.000000        0.000000   8101.000000   9837.000000   334.500000   \n",
       "75%      675.500000        1.250000  11544.000000  13169.500000   538.750000   \n",
       "max    31359.000000      340.000000  47605.000000  42433.000000  1698.000000   \n",
       "\n",
       "          multiple  prepawn_handgun  prepawn_long_gun  prepawn_other  \\\n",
       "count   227.000000       192.000000        192.000000      93.000000   \n",
       "mean    463.568282        22.078125         33.036458       0.279570   \n",
       "std     251.687365        18.079787         29.561077       0.614421   \n",
       "min      10.000000         1.000000          3.000000       0.000000   \n",
       "25%     293.000000         9.000000         12.000000       0.000000   \n",
       "50%     379.000000        13.000000         17.000000       0.000000   \n",
       "75%     563.000000        35.250000         52.000000       0.000000   \n",
       "max    1752.000000        76.000000        132.000000       3.000000   \n",
       "\n",
       "       redemption_other  rentals_handgun  rentals_long_gun  \\\n",
       "count         93.000000        18.000000              15.0   \n",
       "mean           4.473118         0.055556               0.0   \n",
       "std            2.756776         0.235702               0.0   \n",
       "min            0.000000         0.000000               0.0   \n",
       "25%            2.000000         0.000000               0.0   \n",
       "50%            4.000000         0.000000               0.0   \n",
       "75%            6.000000         0.000000               0.0   \n",
       "max           11.000000         1.000000               0.0   \n",
       "\n",
       "       private_sale_handgun  private_sale_long_gun  private_sale_other  \\\n",
       "count              50.00000              50.000000           50.000000   \n",
       "mean                4.48000               4.140000            0.380000   \n",
       "std                 5.97013               5.595224            0.878078   \n",
       "min                 0.00000               0.000000            0.000000   \n",
       "25%                 0.00000               0.000000            0.000000   \n",
       "50%                 0.00000               0.000000            0.000000   \n",
       "75%                 9.00000               8.000000            0.000000   \n",
       "max                17.00000              18.000000            4.000000   \n",
       "\n",
       "              totals  \n",
       "count     227.000000  \n",
       "mean    29542.198238  \n",
       "std     16526.615233  \n",
       "min      1062.000000  \n",
       "25%     18041.500000  \n",
       "50%     24123.000000  \n",
       "75%     38528.000000  \n",
       "max    120914.000000  "
      ]
     },
     "execution_count": 48,
     "metadata": {},
     "output_type": "execute_result"
    }
   ],
   "source": [
    "#The statistical information for Alabama.\n",
    "df_alab.describe()"
   ]
  },
  {
   "cell_type": "markdown",
   "metadata": {},
   "source": [
    "The standard deviations seem large, but we are talking about numbers in the tens of thousands. The standard deviation for the long gun is approximately 33% of the mean for Washington. The standard deviation for handguns in Washington is over 50% of the mean. This tells me that the data is pretty spread out and not close to the mean. There is a similar result in the Alabama data. When you compare the two columns, it does appear that there is a correlation (not causal) but a positive correlation between the two. "
   ]
  },
  {
   "cell_type": "markdown",
   "metadata": {},
   "source": [
    "<a id='conclusions'></a>\n",
    "## Conclusions\n",
    "\n",
    "> As I started this investigation, I was a little overwhelmed by the amount of data and the information provided. As I started to 'wrangle' it I began to see some insights that would be interesting to dig into. It appears that Washington has more permitted handgun owners than Alabama, but that Alabama has more handguns. Alabama had twice the ratio of handguns to permits than the national ratio. \n",
    "\n",
    "At this point I decided to look at the relationship between the long gun sales and the handgun sales in each state and across the country. I compared the two variables to each other and found a correlation between the two. It was not a strong correlation, but it does appear on a large scale that the more rifles (long guns) being sold the more handguns that are sold. \n",
    "\n",
    "Then I looked at the standard deviation between the two states and their respective sales. The deviations were significant meaning that the data was spread out relatively wildly. This would mean that you could not make any solid predictions with this information. Sales were not consistent month to month in either state. \n",
    "\n",
    "This was fascinating information and I enjoyed working with this data set. I would really like to look into the crime data for each state and determine if there is any significant finding there with relation to the gun violence and the number of firearms in each state. Also to determine if the number of permits decreased the violence in Washington vs. Alabama. \n",
    "\n",
    "Lastly, I was interested to see what percentage of the U.S. sales of handguns and long guns these two states represented. It appears that Washington represents about 2.7 percent of the national sales and Alabama represents approximately 3 percent of the total handgun sales in the U.S. \n",
    "\n",
    "This data was very clean, but there were some limitations. The number of months and the datatype for the months made it difficult to group the data by year or even month. Changing the datatype would have involved removing the \"-\" from the dates and replacing them with a \".\" Once I did this I could have changed the data type to \"floating\" and selected ranges of dates in a variable. There were many columns with null values. The columns I decided to use did not have as many so it was a relatively easy work around. If I would have wanted to use the other columns it would have been much more difficult to work through the \"null\" values.\n",
    "\n",
    "## Submitting your Project \n",
    "\n",
    "> Before you submit your project, you need to create a .html or .pdf version of this notebook in the workspace here. To do that, run the code cell below. If it worked correctly, you should get a return code of 0, and you should see the generated .html file in the workspace directory (click on the orange Jupyter icon in the upper left).\n",
    "\n",
    "> Alternatively, you can download this report as .html via the **File** > **Download as** submenu, and then manually upload it into the workspace directory by clicking on the orange Jupyter icon in the upper left, then using the Upload button.\n",
    "\n",
    "> Once you've done this, you can submit your project by clicking on the \"Submit Project\" button in the lower right here. This will create and submit a zip file with this .ipynb doc and the .html or .pdf version you created. Congratulations!"
   ]
  },
  {
   "cell_type": "code",
   "execution_count": 82,
   "metadata": {},
   "outputs": [
    {
     "data": {
      "text/plain": [
       "0"
      ]
     },
     "execution_count": 82,
     "metadata": {},
     "output_type": "execute_result"
    }
   ],
   "source": [
    "from subprocess import call\n",
    "call(['python', '-m', 'nbconvert', 'Investigate_a_Dataset.ipynb'])"
   ]
  }
 ],
 "metadata": {
  "kernelspec": {
   "display_name": "Python 3",
   "language": "python",
   "name": "python3"
  },
  "language_info": {
   "codemirror_mode": {
    "name": "ipython",
    "version": 3
   },
   "file_extension": ".py",
   "mimetype": "text/x-python",
   "name": "python",
   "nbconvert_exporter": "python",
   "pygments_lexer": "ipython3",
   "version": "3.7.2"
  }
 },
 "nbformat": 4,
 "nbformat_minor": 2
}
